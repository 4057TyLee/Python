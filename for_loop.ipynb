{
 "cells": [
  {
   "cell_type": "code",
   "execution_count": 1,
   "id": "5214233c-561c-432c-a3e8-56ece0053247",
   "metadata": {},
   "outputs": [],
   "source": [
    "# Task : Print the prime numbers which are between 1 to entered limit number (n).\n",
    "# You can use a nested for loop.\n",
    "# Collect all these numbers into a list"
   ]
  },
  {
   "cell_type": "code",
   "execution_count": 3,
   "id": "2addbfa6-d80e-4053-a434-e089cc58a092",
   "metadata": {},
   "outputs": [
    {
     "name": "stdin",
     "output_type": "stream",
     "text": [
      "enter a number to find the prime numbers in it : 30\n"
     ]
    },
    {
     "name": "stdout",
     "output_type": "stream",
     "text": [
      "[2, 3, 5, 7, 11, 13, 17, 19, 23, 29]\n"
     ]
    }
   ],
   "source": [
    "number = int(input(\"enter a number to find the prime numbers in it :\"))\n",
    "prime_list = []\n",
    "\n",
    "for i in range(2, number) :\n",
    "    for j in range(2, i) :\n",
    "        if i % j == 0 :\n",
    "            break\n",
    "    else:\n",
    "        prime_list.append(i)\n",
    "\n",
    "print(prime_list)"
   ]
  },
  {
   "cell_type": "code",
   "execution_count": null,
   "id": "fa220280-8166-4419-9321-e2653fdac313",
   "metadata": {},
   "outputs": [],
   "source": [
    "# Task: Print numbers from 1 to 100 inclusively following these instructions:\n",
    "# if a number is multiple of 3, print \"Fizz\" instead of this number,\n",
    "# if a number is multiple of 5, print \"Buzz\" instead of this number,\n",
    "# for numbers that are multiples of both 3 and 5, print \"FizzBuzz\",\n",
    "# print the rest of the numbers unchanged."
   ]
  },
  {
   "cell_type": "code",
   "execution_count": 4,
   "id": "22fc64ba-ceaa-467d-8fd4-594f2cb90514",
   "metadata": {},
   "outputs": [
    {
     "name": "stdout",
     "output_type": "stream",
     "text": [
      "1 2 Fizz 4 Buzz Fizz 7 8 Fizz Buzz 11 Fizz 13 14 FizzBuzz 16 17 Fizz 19 Buzz Fizz 22 23 Fizz Buzz 26 Fizz 28 29 FizzBuzz 31 32 Fizz 34 Buzz Fizz 37 38 Fizz Buzz 41 Fizz 43 44 FizzBuzz 46 47 Fizz 49 Buzz Fizz 52 53 Fizz Buzz 56 Fizz 58 59 FizzBuzz 61 62 Fizz 64 Buzz Fizz 67 68 Fizz Buzz 71 Fizz 73 74 FizzBuzz 76 77 Fizz 79 Buzz Fizz 82 83 Fizz Buzz 86 Fizz 88 89 FizzBuzz 91 92 Fizz 94 Buzz Fizz 97 98 Fizz Buzz "
     ]
    }
   ],
   "source": [
    "for i in range(1, 101) :\n",
    "    if i % 15 == 0 :\n",
    "        print(\"FizzBuzz\", end = \" \")\n",
    "    elif i % 3 == 0 :\n",
    "        print(\"Fizz\", end = \" \")\n",
    "    elif i % 5 == 0 :\n",
    "        print(\"Buzz\", end = \" \")\n",
    "    else :\n",
    "        print(i, end = \" \")"
   ]
  },
  {
   "cell_type": "code",
   "execution_count": null,
   "id": "8bcbb0bc-1ea0-4643-a570-e2b95d49e75f",
   "metadata": {},
   "outputs": [],
   "source": [
    "# Write a Python program that;\n",
    "# takes a sentence from the user,\n",
    "# counts the number of each letter/chars of the sentence,\n",
    "# collects the letters/chars as a key and the counted numbers as a value in a dictionary."
   ]
  },
  {
   "cell_type": "code",
   "execution_count": 5,
   "id": "af27a6b7-666e-4374-82b8-80bf256a6fa4",
   "metadata": {},
   "outputs": [
    {
     "name": "stdin",
     "output_type": "stream",
     "text": [
      "write your sentence please : I am very happy today\n"
     ]
    },
    {
     "name": "stdout",
     "output_type": "stream",
     "text": [
      "{'I': 1, ' ': 4, 'a': 3, 'm': 1, 'v': 1, 'e': 1, 'r': 1, 'y': 3, 'h': 1, 'p': 2, 't': 1, 'o': 1, 'd': 1}\n"
     ]
    }
   ],
   "source": [
    "sentence = input(\"write your sentence please :\")\n",
    "letters={}\n",
    "\n",
    "for i in sentence :\n",
    "\n",
    "    if i in letters :\n",
    "\n",
    "        letters[i] += 1\n",
    "\n",
    "    else:\n",
    "\n",
    "        letters[i] =  1\n",
    "\n",
    "print(letters)"
   ]
  },
  {
   "cell_type": "code",
   "execution_count": null,
   "id": "73042522-5943-4353-a538-95330589e988",
   "metadata": {},
   "outputs": [],
   "source": []
  }
 ],
 "metadata": {
  "kernelspec": {
   "display_name": "Python 3 (ipykernel)",
   "language": "python",
   "name": "python3"
  },
  "language_info": {
   "codemirror_mode": {
    "name": "ipython",
    "version": 3
   },
   "file_extension": ".py",
   "mimetype": "text/x-python",
   "name": "python",
   "nbconvert_exporter": "python",
   "pygments_lexer": "ipython3",
   "version": "3.9.12"
  }
 },
 "nbformat": 4,
 "nbformat_minor": 5
}
