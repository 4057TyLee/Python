{
 "cells": [
  {
   "cell_type": "code",
   "execution_count": 1,
   "id": "97aed7b4-7c2b-4572-ac0d-aa2a0840afc7",
   "metadata": {},
   "outputs": [],
   "source": [
    "import numpy as np"
   ]
  },
  {
   "cell_type": "markdown",
   "id": "86f47792-0109-47f8-b122-1821149aabdc",
   "metadata": {},
   "source": [
    "### Create an array from my_list = [5, 10, 15, 20, 25]"
   ]
  },
  {
   "cell_type": "code",
   "execution_count": 2,
   "id": "d5715112-389c-4bd8-abea-fe866d40eba9",
   "metadata": {},
   "outputs": [
    {
     "data": {
      "text/plain": [
       "array([ 5, 10, 15, 20, 25])"
      ]
     },
     "execution_count": 2,
     "metadata": {},
     "output_type": "execute_result"
    }
   ],
   "source": [
    "my_list = [5, 10, 15, 20, 25]\n",
    "my_array = np.array(my_list)\n",
    "my_array"
   ]
  },
  {
   "cell_type": "markdown",
   "id": "310bcdc8-b602-4ab7-a152-36aa2b8027a5",
   "metadata": {},
   "source": [
    "### Generate an array of 5x5 with zeros."
   ]
  },
  {
   "cell_type": "code",
   "execution_count": 3,
   "id": "7cdc5a01-2b1d-4d86-93c2-73bca81c9252",
   "metadata": {},
   "outputs": [
    {
     "data": {
      "text/plain": [
       "array([[0., 0., 0., 0., 0.],\n",
       "       [0., 0., 0., 0., 0.],\n",
       "       [0., 0., 0., 0., 0.],\n",
       "       [0., 0., 0., 0., 0.],\n",
       "       [0., 0., 0., 0., 0.]])"
      ]
     },
     "execution_count": 3,
     "metadata": {},
     "output_type": "execute_result"
    }
   ],
   "source": [
    "np.zeros((5, 5))"
   ]
  },
  {
   "cell_type": "markdown",
   "id": "3be8b9b1-72fc-4763-a845-d54da1e37a75",
   "metadata": {},
   "source": [
    "### Generate an array of 4x4 with ones and assign data type as int."
   ]
  },
  {
   "cell_type": "code",
   "execution_count": 4,
   "id": "0f114743-b7c6-4af4-96f2-879793a36283",
   "metadata": {},
   "outputs": [
    {
     "data": {
      "text/plain": [
       "array([[1, 1, 1, 1],\n",
       "       [1, 1, 1, 1],\n",
       "       [1, 1, 1, 1],\n",
       "       [1, 1, 1, 1]])"
      ]
     },
     "execution_count": 4,
     "metadata": {},
     "output_type": "execute_result"
    }
   ],
   "source": [
    "np.ones((4, 4), dtype = int)"
   ]
  },
  {
   "cell_type": "markdown",
   "id": "1961161e-564f-458a-aac9-7ac52e0b28d1",
   "metadata": {},
   "source": [
    "### Make all the values of the array above with the value of 7."
   ]
  },
  {
   "cell_type": "code",
   "execution_count": 5,
   "id": "33d8c941-9bb9-43db-9776-c7f68bf7529d",
   "metadata": {},
   "outputs": [
    {
     "data": {
      "text/plain": [
       "array([[7, 7, 7, 7],\n",
       "       [7, 7, 7, 7],\n",
       "       [7, 7, 7, 7],\n",
       "       [7, 7, 7, 7]])"
      ]
     },
     "execution_count": 5,
     "metadata": {},
     "output_type": "execute_result"
    }
   ],
   "source": [
    "np.full((4, 4), 7)"
   ]
  },
  {
   "cell_type": "markdown",
   "id": "2daa41a3-c242-4c40-9385-7f9455f0e6c4",
   "metadata": {},
   "source": [
    "### Create an array of even integers from 2 to 16 (inclusive)."
   ]
  },
  {
   "cell_type": "code",
   "execution_count": 6,
   "id": "0f5f5319-1399-45ac-b428-51a3ba6f6917",
   "metadata": {},
   "outputs": [
    {
     "data": {
      "text/plain": [
       "array([ 2,  4,  6,  8, 10, 12, 14, 16])"
      ]
     },
     "execution_count": 6,
     "metadata": {},
     "output_type": "execute_result"
    }
   ],
   "source": [
    "np.arange(2,17,2, dtype=int)"
   ]
  },
  {
   "cell_type": "markdown",
   "id": "441e96a7-9ef1-4623-8478-e490e227cb9b",
   "metadata": {},
   "source": [
    "### Create a 5x5 matrix with the values between 0 to 25 (exclusive)."
   ]
  },
  {
   "cell_type": "code",
   "execution_count": 7,
   "id": "28f42492-6667-4dbd-8d5d-ede8b5124535",
   "metadata": {},
   "outputs": [
    {
     "data": {
      "text/plain": [
       "array([[ 0,  1,  2,  3,  4],\n",
       "       [ 5,  6,  7,  8,  9],\n",
       "       [10, 11, 12, 13, 14],\n",
       "       [15, 16, 17, 18, 19],\n",
       "       [20, 21, 22, 23, 24]])"
      ]
     },
     "execution_count": 7,
     "metadata": {},
     "output_type": "execute_result"
    }
   ],
   "source": [
    "np.arange(0, 25).reshape(5, 5)"
   ]
  },
  {
   "cell_type": "markdown",
   "id": "974d1726-ae14-4235-94df-46ae10cb6d4f",
   "metadata": {},
   "source": [
    "### Create a 5x5 matrix with the values between 0 to 25 (exclusive) using linspace method."
   ]
  },
  {
   "cell_type": "code",
   "execution_count": 8,
   "id": "cd9b637e-aeb7-4bda-8a32-f9407bb369be",
   "metadata": {
    "jp-MarkdownHeadingCollapsed": true,
    "tags": []
   },
   "outputs": [
    {
     "data": {
      "text/plain": [
       "array([[ 0,  1,  2,  3,  4],\n",
       "       [ 5,  6,  7,  8,  9],\n",
       "       [10, 11, 12, 13, 14],\n",
       "       [15, 16, 17, 18, 19],\n",
       "       [20, 21, 22, 23, 24]])"
      ]
     },
     "execution_count": 8,
     "metadata": {},
     "output_type": "execute_result"
    }
   ],
   "source": [
    "arr = np.linspace(0, 24, 25 ,dtype= int).reshape(5, 5)\n",
    "arr"
   ]
  },
  {
   "cell_type": "markdown",
   "id": "3d9b8bc8-e246-43b6-a8e5-9cc2d8641af4",
   "metadata": {},
   "source": [
    "### Create randomly 5 numbers with numpy."
   ]
  },
  {
   "cell_type": "code",
   "execution_count": 9,
   "id": "e24e06be-8ee7-425f-b7dc-030fdf3692ba",
   "metadata": {},
   "outputs": [
    {
     "data": {
      "text/plain": [
       "array([[ 1.25980276, -0.35572783, -0.02747978,  0.71125604,  0.56443075],\n",
       "       [-0.13250271,  0.28772511,  0.57246617, -0.17247939,  0.36886771],\n",
       "       [ 1.60051466, -0.12914788,  0.15133243,  0.21688316,  0.56917139],\n",
       "       [ 0.48062332, -2.28051738,  0.08176959, -1.14797164, -2.11140778],\n",
       "       [-0.82100123,  0.50788158,  0.71397581, -1.82040115,  0.61785092]])"
      ]
     },
     "execution_count": 9,
     "metadata": {},
     "output_type": "execute_result"
    }
   ],
   "source": [
    "np.random.randn(5, 5)"
   ]
  },
  {
   "cell_type": "markdown",
   "id": "f05f47a8-5745-4ea3-89eb-3b5122ae819c",
   "metadata": {},
   "source": [
    "### Create a 3*4 array of random int numbers between 20 and 50."
   ]
  },
  {
   "cell_type": "code",
   "execution_count": 10,
   "id": "019d3d8b-81ce-4530-839b-6902c3cdbbff",
   "metadata": {},
   "outputs": [
    {
     "data": {
      "text/plain": [
       "array([[41, 41, 28, 45],\n",
       "       [34, 26, 35, 36],\n",
       "       [25, 35, 24, 48]])"
      ]
     },
     "execution_count": 10,
     "metadata": {},
     "output_type": "execute_result"
    }
   ],
   "source": [
    "np.random.randint(20, 50, size=(3,4))"
   ]
  },
  {
   "cell_type": "markdown",
   "id": "73db8270-5f7e-4fce-a954-4a214bd5771e",
   "metadata": {},
   "source": [
    "### Create an array named \"ranarr\"consisting of randomly 48 numbers and reshape this array with the shape of 6x8 in different ways."
   ]
  },
  {
   "cell_type": "code",
   "execution_count": 11,
   "id": "85d0fd4e-10d8-4f76-9f2a-93f908145379",
   "metadata": {},
   "outputs": [
    {
     "data": {
      "text/plain": [
       "array([23, 20, 34, 39, 24, 40, 16, 31, 44,  3, 45, 19,  1,  2, 42,  6, 35,\n",
       "        0, 44,  7, 19, 16, 25, 28, 30, 33, 19, 19, 36, 46,  0,  3, 18,  2,\n",
       "        5, 28, 45, 11, 45,  3, 30, 29,  3, 13, 14, 40, 43, 17])"
      ]
     },
     "execution_count": 11,
     "metadata": {},
     "output_type": "execute_result"
    }
   ],
   "source": [
    "ranarr = np.random.randint(0, 48, 48)\n",
    "ranarr"
   ]
  },
  {
   "cell_type": "code",
   "execution_count": 12,
   "id": "ed1c40aa-8b30-4242-8e4c-25531dc5da56",
   "metadata": {},
   "outputs": [
    {
     "data": {
      "text/plain": [
       "array([[23, 20, 34, 39, 24, 40, 16, 31],\n",
       "       [44,  3, 45, 19,  1,  2, 42,  6],\n",
       "       [35,  0, 44,  7, 19, 16, 25, 28],\n",
       "       [30, 33, 19, 19, 36, 46,  0,  3],\n",
       "       [18,  2,  5, 28, 45, 11, 45,  3],\n",
       "       [30, 29,  3, 13, 14, 40, 43, 17]])"
      ]
     },
     "execution_count": 12,
     "metadata": {},
     "output_type": "execute_result"
    }
   ],
   "source": [
    "ranarr.reshape(6, 8)"
   ]
  },
  {
   "cell_type": "code",
   "execution_count": 13,
   "id": "0cda18bb-b0b7-45e4-afb0-a297fa7ad5c1",
   "metadata": {},
   "outputs": [
    {
     "data": {
      "text/plain": [
       "array([[23, 20, 34, 39, 24, 40, 16, 31],\n",
       "       [44,  3, 45, 19,  1,  2, 42,  6],\n",
       "       [35,  0, 44,  7, 19, 16, 25, 28],\n",
       "       [30, 33, 19, 19, 36, 46,  0,  3],\n",
       "       [18,  2,  5, 28, 45, 11, 45,  3],\n",
       "       [30, 29,  3, 13, 14, 40, 43, 17]])"
      ]
     },
     "execution_count": 13,
     "metadata": {},
     "output_type": "execute_result"
    }
   ],
   "source": [
    "ranarr.reshape(-1, 8)"
   ]
  },
  {
   "cell_type": "code",
   "execution_count": 14,
   "id": "b3b90607-19aa-4262-b18a-380d6fdf390d",
   "metadata": {},
   "outputs": [
    {
     "data": {
      "text/plain": [
       "array([[23, 20, 34, 39, 24, 40, 16, 31],\n",
       "       [44,  3, 45, 19,  1,  2, 42,  6],\n",
       "       [35,  0, 44,  7, 19, 16, 25, 28],\n",
       "       [30, 33, 19, 19, 36, 46,  0,  3],\n",
       "       [18,  2,  5, 28, 45, 11, 45,  3],\n",
       "       [30, 29,  3, 13, 14, 40, 43, 17]])"
      ]
     },
     "execution_count": 14,
     "metadata": {},
     "output_type": "execute_result"
    }
   ],
   "source": [
    "ranarr.reshape(6, -1)"
   ]
  },
  {
   "cell_type": "markdown",
   "id": "3af343ff-5488-41ba-b59e-f81d623f766d",
   "metadata": {},
   "source": [
    "### Create an array named \"mat\" ."
   ]
  },
  {
   "cell_type": "code",
   "execution_count": 15,
   "id": "ba0a6a13-4009-4892-9ed6-33076a68e220",
   "metadata": {},
   "outputs": [
    {
     "data": {
      "text/plain": [
       "array([[ 1,  2,  3,  4],\n",
       "       [ 5,  6,  7,  8],\n",
       "       [ 9, 10, 11, 12],\n",
       "       [13, 14, 15, 16]])"
      ]
     },
     "execution_count": 15,
     "metadata": {},
     "output_type": "execute_result"
    }
   ],
   "source": [
    "mat = np.arange(1, 17).reshape(4, 4)\n",
    "mat"
   ]
  },
  {
   "cell_type": "markdown",
   "id": "68c6b7e7-10ed-4d8a-a469-1e5044349cb5",
   "metadata": {},
   "source": [
    "### Using the array above, write a code that reproduces the desired output shown below."
   ]
  },
  {
   "cell_type": "raw",
   "id": "9e714ad6-b35a-478b-a228-194b25a0a538",
   "metadata": {},
   "source": [
    "Desired Output:\n",
    "\n",
    "array([[ 6,  7],\n",
    "       [10, 11]])"
   ]
  },
  {
   "cell_type": "code",
   "execution_count": 16,
   "id": "09e25993-b049-4357-b059-f4c3577e962e",
   "metadata": {},
   "outputs": [
    {
     "data": {
      "text/plain": [
       "array([[ 6,  7],\n",
       "       [10, 11]])"
      ]
     },
     "execution_count": 16,
     "metadata": {},
     "output_type": "execute_result"
    }
   ],
   "source": [
    "mat[1:3, 1:3]"
   ]
  },
  {
   "cell_type": "markdown",
   "id": "4512791b-f2c9-4212-b0d4-fc93b3dc4de9",
   "metadata": {},
   "source": [
    "### Get the 1st column (index number 0) of the array above."
   ]
  },
  {
   "cell_type": "code",
   "execution_count": 17,
   "id": "5c6cdc9e-1f6a-4439-8ef0-72f6a7d6b176",
   "metadata": {},
   "outputs": [
    {
     "data": {
      "text/plain": [
       "array([ 1,  5,  9, 13])"
      ]
     },
     "execution_count": 17,
     "metadata": {},
     "output_type": "execute_result"
    }
   ],
   "source": [
    "mat[0:4, 0]"
   ]
  },
  {
   "cell_type": "markdown",
   "id": "adaf1498-1e6b-4dd0-a8e8-2630d150368a",
   "metadata": {},
   "source": [
    "### Get the values in 2nd row (index number 1) for every 2 step."
   ]
  },
  {
   "cell_type": "code",
   "execution_count": 18,
   "id": "7cac7bd5-d2ac-4ebe-9603-98a9ee0c6090",
   "metadata": {},
   "outputs": [
    {
     "data": {
      "text/plain": [
       "array([5, 7])"
      ]
     },
     "execution_count": 18,
     "metadata": {},
     "output_type": "execute_result"
    }
   ],
   "source": [
    "mat[1, [0, 2]]"
   ]
  },
  {
   "cell_type": "markdown",
   "id": "53a77fac-99ee-4d98-b5be-ea7f917d4fde",
   "metadata": {},
   "source": [
    "### Assign 77 to every cell in 3rd column."
   ]
  },
  {
   "cell_type": "code",
   "execution_count": 19,
   "id": "b90ae82a-8599-4ae4-92c9-0e1258227949",
   "metadata": {},
   "outputs": [
    {
     "data": {
      "text/plain": [
       "array([[ 1,  2, 77,  4],\n",
       "       [ 5,  6, 77,  8],\n",
       "       [ 9, 10, 77, 12],\n",
       "       [13, 14, 77, 16]])"
      ]
     },
     "execution_count": 19,
     "metadata": {},
     "output_type": "execute_result"
    }
   ],
   "source": [
    "mat[0:4, 2] = 77\n",
    "mat"
   ]
  },
  {
   "cell_type": "markdown",
   "id": "a4459c51-6c90-4372-acf0-701b8c9a0ee7",
   "metadata": {},
   "source": [
    "### (a) Take 2nd row (index number 1) and 1st column (index number 0) , (b) 4th row (index number 3) and 3rd column (index number 2) ."
   ]
  },
  {
   "cell_type": "code",
   "execution_count": 20,
   "id": "d6d52ec8-1368-4d95-9b5e-1ee9975710f4",
   "metadata": {},
   "outputs": [
    {
     "data": {
      "text/plain": [
       "array([ 5, 77])"
      ]
     },
     "execution_count": 20,
     "metadata": {},
     "output_type": "execute_result"
    }
   ],
   "source": [
    "mat[[1, 3],[0, 2]]"
   ]
  },
  {
   "cell_type": "markdown",
   "id": "f3646d71-3683-4409-b365-dc3311cc7d9d",
   "metadata": {},
   "source": [
    "### Take between 2nd and last row with step 2 and between 1st and last column with step 2."
   ]
  },
  {
   "cell_type": "code",
   "execution_count": 21,
   "id": "d82fec75-1faa-426e-845b-c43992173af3",
   "metadata": {},
   "outputs": [
    {
     "data": {
      "text/plain": [
       "array([[ 5, 77],\n",
       "       [13, 77]])"
      ]
     },
     "execution_count": 21,
     "metadata": {},
     "output_type": "execute_result"
    }
   ],
   "source": [
    "mat[1::2 , ::2]"
   ]
  },
  {
   "cell_type": "markdown",
   "id": "b47a30e7-db44-43da-8c0e-a5a2432b1d6c",
   "metadata": {},
   "source": [
    "### Get the sum of values smaller than 10 and values bigger than 12 in \"mat\"."
   ]
  },
  {
   "cell_type": "code",
   "execution_count": 22,
   "id": "44c39d2b-bfc0-4dfd-8796-7f35c6274f32",
   "metadata": {},
   "outputs": [
    {
     "data": {
      "text/plain": [
       "array([1, 2, 4, 5, 6, 8, 9])"
      ]
     },
     "execution_count": 22,
     "metadata": {},
     "output_type": "execute_result"
    }
   ],
   "source": [
    "mat[mat < 10]"
   ]
  },
  {
   "cell_type": "code",
   "execution_count": 23,
   "id": "a7d262ac-6dfa-414e-9df2-36fb915f59e8",
   "metadata": {},
   "outputs": [
    {
     "data": {
      "text/plain": [
       "array([77, 77, 77, 13, 14, 77, 16])"
      ]
     },
     "execution_count": 23,
     "metadata": {},
     "output_type": "execute_result"
    }
   ],
   "source": [
    "mat[mat > 12]"
   ]
  },
  {
   "cell_type": "code",
   "execution_count": 24,
   "id": "227b561e-ba7b-4d94-b5ba-39a5d4519c2b",
   "metadata": {},
   "outputs": [
    {
     "data": {
      "text/plain": [
       "array([78, 79, 81, 18, 20, 85, 25])"
      ]
     },
     "execution_count": 24,
     "metadata": {},
     "output_type": "execute_result"
    }
   ],
   "source": [
    "x = mat[mat < 10]\n",
    "y = mat[mat > 12]\n",
    "np.add(x, y)"
   ]
  },
  {
   "cell_type": "markdown",
   "id": "6e1d2d14-ce3f-414e-820e-7780c165a54e",
   "metadata": {},
   "source": [
    "### Get the standard deviation (std) of the result above."
   ]
  },
  {
   "cell_type": "code",
   "execution_count": 25,
   "id": "29d53a08-354e-4e70-bfcd-b53bf440a4d6",
   "metadata": {},
   "outputs": [
    {
     "data": {
      "text/plain": [
       "29.700546274093877"
      ]
     },
     "execution_count": 25,
     "metadata": {},
     "output_type": "execute_result"
    }
   ],
   "source": [
    "result = np.array([78, 79, 81, 18, 20, 85, 25])\n",
    "result.std()"
   ]
  },
  {
   "cell_type": "markdown",
   "id": "946a0f0d-5849-42a5-ac5c-0695641db57b",
   "metadata": {},
   "source": [
    "### Get the sum of the 2nd column in the original \"mat\"."
   ]
  },
  {
   "cell_type": "code",
   "execution_count": 26,
   "id": "7950b845-1b3e-4211-b5b6-2aa0bcacaa0d",
   "metadata": {},
   "outputs": [
    {
     "data": {
      "text/plain": [
       "array([[ 1,  2,  3,  4],\n",
       "       [ 5,  6,  7,  8],\n",
       "       [ 9, 10, 11, 12],\n",
       "       [13, 14, 15, 16]])"
      ]
     },
     "execution_count": 26,
     "metadata": {},
     "output_type": "execute_result"
    }
   ],
   "source": [
    "mat = np.arange(1, 17).reshape(4, 4)\n",
    "mat"
   ]
  },
  {
   "cell_type": "code",
   "execution_count": 27,
   "id": "c520db5b-6fbc-4c03-9cc2-0cd5dece61fe",
   "metadata": {},
   "outputs": [
    {
     "data": {
      "text/plain": [
       "32"
      ]
     },
     "execution_count": 27,
     "metadata": {},
     "output_type": "execute_result"
    }
   ],
   "source": [
    "second_column = mat[0: , 1]\n",
    "second_column.sum()"
   ]
  },
  {
   "cell_type": "markdown",
   "id": "f12bb23b-55ce-4d43-837d-67eb467227ef",
   "metadata": {},
   "source": [
    "### Get the median, mean and std of 3rd column in \"mat\"."
   ]
  },
  {
   "cell_type": "code",
   "execution_count": 28,
   "id": "c56600e7-3fdd-447e-9209-9b841aa4baca",
   "metadata": {},
   "outputs": [
    {
     "data": {
      "text/plain": [
       "array([[ 3],\n",
       "       [ 7],\n",
       "       [11],\n",
       "       [15]])"
      ]
     },
     "execution_count": 28,
     "metadata": {},
     "output_type": "execute_result"
    }
   ],
   "source": [
    "third_column = mat[:, 2:3]\n",
    "third_column"
   ]
  },
  {
   "cell_type": "code",
   "execution_count": 29,
   "id": "56d1aec8-02de-410e-9117-a98087d9bfb3",
   "metadata": {},
   "outputs": [
    {
     "data": {
      "text/plain": [
       "array([ 9, 10, 11, 12])"
      ]
     },
     "execution_count": 29,
     "metadata": {},
     "output_type": "execute_result"
    }
   ],
   "source": [
    "mat[2, :]"
   ]
  },
  {
   "cell_type": "code",
   "execution_count": 30,
   "id": "dc7a3ebd-d822-492d-9925-21c8a979180e",
   "metadata": {},
   "outputs": [
    {
     "name": "stdout",
     "output_type": "stream",
     "text": [
      "9.0\n",
      "10.5\n"
     ]
    }
   ],
   "source": [
    "print(np.median([ 3,  7, 11, 15]))\n",
    "print(np.median([ 9, 10, 11, 12]))"
   ]
  },
  {
   "cell_type": "code",
   "execution_count": 31,
   "id": "a00bd15e-8983-479e-9dbb-3ccf6908e4b6",
   "metadata": {},
   "outputs": [
    {
     "name": "stdout",
     "output_type": "stream",
     "text": [
      "9.0\n",
      "10.5\n"
     ]
    }
   ],
   "source": [
    "print(np.mean([ 3,  7, 11, 15]))\n",
    "print(np.mean([ 9, 10, 11, 12]))"
   ]
  },
  {
   "cell_type": "code",
   "execution_count": 32,
   "id": "a8e754eb-8a0a-48e7-b16e-cd33b3dedc0b",
   "metadata": {},
   "outputs": [
    {
     "name": "stdout",
     "output_type": "stream",
     "text": [
      "4.47213595499958\n",
      "1.118033988749895\n"
     ]
    }
   ],
   "source": [
    "print(np.std([ 3,  7, 11, 15]))\n",
    "print(np.std([ 9, 10, 11, 12]))"
   ]
  },
  {
   "cell_type": "code",
   "execution_count": 33,
   "id": "a9b7651b-75ee-45f0-b5f7-7cd44d4b242c",
   "metadata": {},
   "outputs": [],
   "source": [
    "import pandas as pd"
   ]
  },
  {
   "cell_type": "code",
   "execution_count": 35,
   "id": "f6c3cb24-65fd-469e-abb0-9d6b6d67a007",
   "metadata": {},
   "outputs": [
    {
     "data": {
      "text/html": [
       "<div>\n",
       "<style scoped>\n",
       "    .dataframe tbody tr th:only-of-type {\n",
       "        vertical-align: middle;\n",
       "    }\n",
       "\n",
       "    .dataframe tbody tr th {\n",
       "        vertical-align: top;\n",
       "    }\n",
       "\n",
       "    .dataframe thead th {\n",
       "        text-align: right;\n",
       "    }\n",
       "</style>\n",
       "<table border=\"1\" class=\"dataframe\">\n",
       "  <thead>\n",
       "    <tr style=\"text-align: right;\">\n",
       "      <th></th>\n",
       "      <th>Id</th>\n",
       "      <th>EmployeeName</th>\n",
       "      <th>JobTitle</th>\n",
       "      <th>BasePay</th>\n",
       "      <th>OvertimePay</th>\n",
       "      <th>OtherPay</th>\n",
       "      <th>Benefits</th>\n",
       "      <th>TotalPay</th>\n",
       "      <th>TotalPayBenefits</th>\n",
       "      <th>Year</th>\n",
       "      <th>Notes</th>\n",
       "      <th>Agency</th>\n",
       "      <th>Status</th>\n",
       "    </tr>\n",
       "  </thead>\n",
       "  <tbody>\n",
       "    <tr>\n",
       "      <th>0</th>\n",
       "      <td>1</td>\n",
       "      <td>NATHANIEL FORD</td>\n",
       "      <td>GENERAL MANAGER-METROPOLITAN TRANSIT AUTHORITY</td>\n",
       "      <td>167411.18</td>\n",
       "      <td>0.00</td>\n",
       "      <td>400184.25</td>\n",
       "      <td>NaN</td>\n",
       "      <td>567595.43</td>\n",
       "      <td>567595.43</td>\n",
       "      <td>2011</td>\n",
       "      <td>NaN</td>\n",
       "      <td>San Francisco</td>\n",
       "      <td>NaN</td>\n",
       "    </tr>\n",
       "    <tr>\n",
       "      <th>1</th>\n",
       "      <td>2</td>\n",
       "      <td>GARY JIMENEZ</td>\n",
       "      <td>CAPTAIN III (POLICE DEPARTMENT)</td>\n",
       "      <td>155966.02</td>\n",
       "      <td>245131.88</td>\n",
       "      <td>137811.38</td>\n",
       "      <td>NaN</td>\n",
       "      <td>538909.28</td>\n",
       "      <td>538909.28</td>\n",
       "      <td>2011</td>\n",
       "      <td>NaN</td>\n",
       "      <td>San Francisco</td>\n",
       "      <td>NaN</td>\n",
       "    </tr>\n",
       "    <tr>\n",
       "      <th>2</th>\n",
       "      <td>3</td>\n",
       "      <td>ALBERT PARDINI</td>\n",
       "      <td>CAPTAIN III (POLICE DEPARTMENT)</td>\n",
       "      <td>212739.13</td>\n",
       "      <td>106088.18</td>\n",
       "      <td>16452.60</td>\n",
       "      <td>NaN</td>\n",
       "      <td>335279.91</td>\n",
       "      <td>335279.91</td>\n",
       "      <td>2011</td>\n",
       "      <td>NaN</td>\n",
       "      <td>San Francisco</td>\n",
       "      <td>NaN</td>\n",
       "    </tr>\n",
       "    <tr>\n",
       "      <th>3</th>\n",
       "      <td>4</td>\n",
       "      <td>CHRISTOPHER CHONG</td>\n",
       "      <td>WIRE ROPE CABLE MAINTENANCE MECHANIC</td>\n",
       "      <td>77916.00</td>\n",
       "      <td>56120.71</td>\n",
       "      <td>198306.90</td>\n",
       "      <td>NaN</td>\n",
       "      <td>332343.61</td>\n",
       "      <td>332343.61</td>\n",
       "      <td>2011</td>\n",
       "      <td>NaN</td>\n",
       "      <td>San Francisco</td>\n",
       "      <td>NaN</td>\n",
       "    </tr>\n",
       "    <tr>\n",
       "      <th>4</th>\n",
       "      <td>5</td>\n",
       "      <td>PATRICK GARDNER</td>\n",
       "      <td>DEPUTY CHIEF OF DEPARTMENT,(FIRE DEPARTMENT)</td>\n",
       "      <td>134401.60</td>\n",
       "      <td>9737.00</td>\n",
       "      <td>182234.59</td>\n",
       "      <td>NaN</td>\n",
       "      <td>326373.19</td>\n",
       "      <td>326373.19</td>\n",
       "      <td>2011</td>\n",
       "      <td>NaN</td>\n",
       "      <td>San Francisco</td>\n",
       "      <td>NaN</td>\n",
       "    </tr>\n",
       "  </tbody>\n",
       "</table>\n",
       "</div>"
      ],
      "text/plain": [
       "   Id       EmployeeName                                        JobTitle  \\\n",
       "0   1     NATHANIEL FORD  GENERAL MANAGER-METROPOLITAN TRANSIT AUTHORITY   \n",
       "1   2       GARY JIMENEZ                 CAPTAIN III (POLICE DEPARTMENT)   \n",
       "2   3     ALBERT PARDINI                 CAPTAIN III (POLICE DEPARTMENT)   \n",
       "3   4  CHRISTOPHER CHONG            WIRE ROPE CABLE MAINTENANCE MECHANIC   \n",
       "4   5    PATRICK GARDNER    DEPUTY CHIEF OF DEPARTMENT,(FIRE DEPARTMENT)   \n",
       "\n",
       "     BasePay  OvertimePay   OtherPay  Benefits   TotalPay  TotalPayBenefits  \\\n",
       "0  167411.18         0.00  400184.25       NaN  567595.43         567595.43   \n",
       "1  155966.02    245131.88  137811.38       NaN  538909.28         538909.28   \n",
       "2  212739.13    106088.18   16452.60       NaN  335279.91         335279.91   \n",
       "3   77916.00     56120.71  198306.90       NaN  332343.61         332343.61   \n",
       "4  134401.60      9737.00  182234.59       NaN  326373.19         326373.19   \n",
       "\n",
       "   Year  Notes         Agency  Status  \n",
       "0  2011    NaN  San Francisco     NaN  \n",
       "1  2011    NaN  San Francisco     NaN  \n",
       "2  2011    NaN  San Francisco     NaN  \n",
       "3  2011    NaN  San Francisco     NaN  \n",
       "4  2011    NaN  San Francisco     NaN  "
      ]
     },
     "execution_count": 35,
     "metadata": {},
     "output_type": "execute_result"
    }
   ],
   "source": [
    "\n",
    "df = pd.read_csv(\"Salaries.csv\")\n",
    "df.head()"
   ]
  },
  {
   "cell_type": "code",
   "execution_count": 36,
   "id": "11600608-487d-4c90-9ac3-ddb26c4855f5",
   "metadata": {},
   "outputs": [
    {
     "data": {
      "text/html": [
       "<div>\n",
       "<style scoped>\n",
       "    .dataframe tbody tr th:only-of-type {\n",
       "        vertical-align: middle;\n",
       "    }\n",
       "\n",
       "    .dataframe tbody tr th {\n",
       "        vertical-align: top;\n",
       "    }\n",
       "\n",
       "    .dataframe thead th {\n",
       "        text-align: right;\n",
       "    }\n",
       "</style>\n",
       "<table border=\"1\" class=\"dataframe\">\n",
       "  <thead>\n",
       "    <tr style=\"text-align: right;\">\n",
       "      <th></th>\n",
       "      <th>Id</th>\n",
       "      <th>EmployeeName</th>\n",
       "      <th>JobTitle</th>\n",
       "      <th>BasePay</th>\n",
       "      <th>OvertimePay</th>\n",
       "      <th>OtherPay</th>\n",
       "      <th>Benefits</th>\n",
       "      <th>TotalPay</th>\n",
       "      <th>TotalPayBenefits</th>\n",
       "      <th>Year</th>\n",
       "      <th>Notes</th>\n",
       "      <th>Agency</th>\n",
       "      <th>Status</th>\n",
       "    </tr>\n",
       "  </thead>\n",
       "  <tbody>\n",
       "    <tr>\n",
       "      <th>21751</th>\n",
       "      <td>21752</td>\n",
       "      <td>NANCY HUI</td>\n",
       "      <td>SENIOR ACCOUNT CLERK</td>\n",
       "      <td>57630.56</td>\n",
       "      <td>0.0</td>\n",
       "      <td>624.0</td>\n",
       "      <td>NaN</td>\n",
       "      <td>58254.56</td>\n",
       "      <td>58254.56</td>\n",
       "      <td>2011</td>\n",
       "      <td>NaN</td>\n",
       "      <td>San Francisco</td>\n",
       "      <td>NaN</td>\n",
       "    </tr>\n",
       "  </tbody>\n",
       "</table>\n",
       "</div>"
      ],
      "text/plain": [
       "          Id EmployeeName              JobTitle   BasePay  OvertimePay  \\\n",
       "21751  21752    NANCY HUI  SENIOR ACCOUNT CLERK  57630.56          0.0   \n",
       "\n",
       "       OtherPay  Benefits  TotalPay  TotalPayBenefits  Year  Notes  \\\n",
       "21751     624.0       NaN  58254.56          58254.56  2011    NaN   \n",
       "\n",
       "              Agency  Status  \n",
       "21751  San Francisco     NaN  "
      ]
     },
     "execution_count": 36,
     "metadata": {},
     "output_type": "execute_result"
    }
   ],
   "source": [
    "df.sample()"
   ]
  },
  {
   "cell_type": "code",
   "execution_count": 37,
   "id": "05a60608-0a6a-4e34-99e4-cb9b90ec2815",
   "metadata": {},
   "outputs": [
    {
     "name": "stdout",
     "output_type": "stream",
     "text": [
      "<class 'pandas.core.frame.DataFrame'>\n",
      "RangeIndex: 148654 entries, 0 to 148653\n",
      "Data columns (total 13 columns):\n",
      " #   Column            Non-Null Count   Dtype  \n",
      "---  ------            --------------   -----  \n",
      " 0   Id                148654 non-null  int64  \n",
      " 1   EmployeeName      148654 non-null  object \n",
      " 2   JobTitle          148654 non-null  object \n",
      " 3   BasePay           148045 non-null  float64\n",
      " 4   OvertimePay       148650 non-null  float64\n",
      " 5   OtherPay          148650 non-null  float64\n",
      " 6   Benefits          112491 non-null  float64\n",
      " 7   TotalPay          148654 non-null  float64\n",
      " 8   TotalPayBenefits  148654 non-null  float64\n",
      " 9   Year              148654 non-null  int64  \n",
      " 10  Notes             0 non-null       float64\n",
      " 11  Agency            148654 non-null  object \n",
      " 12  Status            0 non-null       float64\n",
      "dtypes: float64(8), int64(2), object(3)\n",
      "memory usage: 14.7+ MB\n"
     ]
    }
   ],
   "source": [
    "df.info()"
   ]
  },
  {
   "cell_type": "code",
   "execution_count": 38,
   "id": "f49f9111-1751-4b38-8764-0e21d4ad7063",
   "metadata": {},
   "outputs": [
    {
     "data": {
      "text/html": [
       "<div>\n",
       "<style scoped>\n",
       "    .dataframe tbody tr th:only-of-type {\n",
       "        vertical-align: middle;\n",
       "    }\n",
       "\n",
       "    .dataframe tbody tr th {\n",
       "        vertical-align: top;\n",
       "    }\n",
       "\n",
       "    .dataframe thead th {\n",
       "        text-align: right;\n",
       "    }\n",
       "</style>\n",
       "<table border=\"1\" class=\"dataframe\">\n",
       "  <thead>\n",
       "    <tr style=\"text-align: right;\">\n",
       "      <th></th>\n",
       "      <th>Id</th>\n",
       "      <th>BasePay</th>\n",
       "      <th>OvertimePay</th>\n",
       "      <th>OtherPay</th>\n",
       "      <th>Benefits</th>\n",
       "      <th>TotalPay</th>\n",
       "      <th>TotalPayBenefits</th>\n",
       "      <th>Year</th>\n",
       "      <th>Notes</th>\n",
       "      <th>Status</th>\n",
       "    </tr>\n",
       "  </thead>\n",
       "  <tbody>\n",
       "    <tr>\n",
       "      <th>count</th>\n",
       "      <td>148654.000000</td>\n",
       "      <td>148045.000000</td>\n",
       "      <td>148650.000000</td>\n",
       "      <td>148650.000000</td>\n",
       "      <td>112491.000000</td>\n",
       "      <td>148654.000000</td>\n",
       "      <td>148654.000000</td>\n",
       "      <td>148654.000000</td>\n",
       "      <td>0.0</td>\n",
       "      <td>0.0</td>\n",
       "    </tr>\n",
       "    <tr>\n",
       "      <th>mean</th>\n",
       "      <td>74327.500000</td>\n",
       "      <td>66325.448841</td>\n",
       "      <td>5066.059886</td>\n",
       "      <td>3648.767297</td>\n",
       "      <td>25007.893151</td>\n",
       "      <td>74768.321972</td>\n",
       "      <td>93692.554811</td>\n",
       "      <td>2012.522643</td>\n",
       "      <td>NaN</td>\n",
       "      <td>NaN</td>\n",
       "    </tr>\n",
       "    <tr>\n",
       "      <th>std</th>\n",
       "      <td>42912.857795</td>\n",
       "      <td>42764.635495</td>\n",
       "      <td>11454.380559</td>\n",
       "      <td>8056.601866</td>\n",
       "      <td>15402.215858</td>\n",
       "      <td>50517.005274</td>\n",
       "      <td>62793.533483</td>\n",
       "      <td>1.117538</td>\n",
       "      <td>NaN</td>\n",
       "      <td>NaN</td>\n",
       "    </tr>\n",
       "    <tr>\n",
       "      <th>min</th>\n",
       "      <td>1.000000</td>\n",
       "      <td>-166.010000</td>\n",
       "      <td>-0.010000</td>\n",
       "      <td>-7058.590000</td>\n",
       "      <td>-33.890000</td>\n",
       "      <td>-618.130000</td>\n",
       "      <td>-618.130000</td>\n",
       "      <td>2011.000000</td>\n",
       "      <td>NaN</td>\n",
       "      <td>NaN</td>\n",
       "    </tr>\n",
       "    <tr>\n",
       "      <th>25%</th>\n",
       "      <td>37164.250000</td>\n",
       "      <td>33588.200000</td>\n",
       "      <td>0.000000</td>\n",
       "      <td>0.000000</td>\n",
       "      <td>11535.395000</td>\n",
       "      <td>36168.995000</td>\n",
       "      <td>44065.650000</td>\n",
       "      <td>2012.000000</td>\n",
       "      <td>NaN</td>\n",
       "      <td>NaN</td>\n",
       "    </tr>\n",
       "    <tr>\n",
       "      <th>50%</th>\n",
       "      <td>74327.500000</td>\n",
       "      <td>65007.450000</td>\n",
       "      <td>0.000000</td>\n",
       "      <td>811.270000</td>\n",
       "      <td>28628.620000</td>\n",
       "      <td>71426.610000</td>\n",
       "      <td>92404.090000</td>\n",
       "      <td>2013.000000</td>\n",
       "      <td>NaN</td>\n",
       "      <td>NaN</td>\n",
       "    </tr>\n",
       "    <tr>\n",
       "      <th>75%</th>\n",
       "      <td>111490.750000</td>\n",
       "      <td>94691.050000</td>\n",
       "      <td>4658.175000</td>\n",
       "      <td>4236.065000</td>\n",
       "      <td>35566.855000</td>\n",
       "      <td>105839.135000</td>\n",
       "      <td>132876.450000</td>\n",
       "      <td>2014.000000</td>\n",
       "      <td>NaN</td>\n",
       "      <td>NaN</td>\n",
       "    </tr>\n",
       "    <tr>\n",
       "      <th>max</th>\n",
       "      <td>148654.000000</td>\n",
       "      <td>319275.010000</td>\n",
       "      <td>245131.880000</td>\n",
       "      <td>400184.250000</td>\n",
       "      <td>96570.660000</td>\n",
       "      <td>567595.430000</td>\n",
       "      <td>567595.430000</td>\n",
       "      <td>2014.000000</td>\n",
       "      <td>NaN</td>\n",
       "      <td>NaN</td>\n",
       "    </tr>\n",
       "  </tbody>\n",
       "</table>\n",
       "</div>"
      ],
      "text/plain": [
       "                  Id        BasePay    OvertimePay       OtherPay  \\\n",
       "count  148654.000000  148045.000000  148650.000000  148650.000000   \n",
       "mean    74327.500000   66325.448841    5066.059886    3648.767297   \n",
       "std     42912.857795   42764.635495   11454.380559    8056.601866   \n",
       "min         1.000000    -166.010000      -0.010000   -7058.590000   \n",
       "25%     37164.250000   33588.200000       0.000000       0.000000   \n",
       "50%     74327.500000   65007.450000       0.000000     811.270000   \n",
       "75%    111490.750000   94691.050000    4658.175000    4236.065000   \n",
       "max    148654.000000  319275.010000  245131.880000  400184.250000   \n",
       "\n",
       "            Benefits       TotalPay  TotalPayBenefits           Year  Notes  \\\n",
       "count  112491.000000  148654.000000     148654.000000  148654.000000    0.0   \n",
       "mean    25007.893151   74768.321972      93692.554811    2012.522643    NaN   \n",
       "std     15402.215858   50517.005274      62793.533483       1.117538    NaN   \n",
       "min       -33.890000    -618.130000       -618.130000    2011.000000    NaN   \n",
       "25%     11535.395000   36168.995000      44065.650000    2012.000000    NaN   \n",
       "50%     28628.620000   71426.610000      92404.090000    2013.000000    NaN   \n",
       "75%     35566.855000  105839.135000     132876.450000    2014.000000    NaN   \n",
       "max     96570.660000  567595.430000     567595.430000    2014.000000    NaN   \n",
       "\n",
       "       Status  \n",
       "count     0.0  \n",
       "mean      NaN  \n",
       "std       NaN  \n",
       "min       NaN  \n",
       "25%       NaN  \n",
       "50%       NaN  \n",
       "75%       NaN  \n",
       "max       NaN  "
      ]
     },
     "execution_count": 38,
     "metadata": {},
     "output_type": "execute_result"
    }
   ],
   "source": [
    "df.describe()"
   ]
  },
  {
   "cell_type": "markdown",
   "id": "2c93cafe-4060-41ef-a774-eaaa691222e0",
   "metadata": {},
   "source": [
    "### How many different year values are there?"
   ]
  },
  {
   "cell_type": "code",
   "execution_count": 39,
   "id": "9a29a22d-0471-4658-84f9-4939a58280c6",
   "metadata": {},
   "outputs": [
    {
     "data": {
      "text/plain": [
       "2014    38123\n",
       "2013    37606\n",
       "2012    36766\n",
       "2011    36159\n",
       "Name: Year, dtype: int64"
      ]
     },
     "execution_count": 39,
     "metadata": {},
     "output_type": "execute_result"
    }
   ],
   "source": [
    "df.Year.value_counts()"
   ]
  },
  {
   "cell_type": "code",
   "execution_count": 40,
   "id": "1de1274e-8789-4a9e-901d-4efc531db9ab",
   "metadata": {},
   "outputs": [
    {
     "data": {
      "text/plain": [
       "array([2011, 2012, 2013, 2014])"
      ]
     },
     "execution_count": 40,
     "metadata": {},
     "output_type": "execute_result"
    }
   ],
   "source": [
    "df.Year.unique()"
   ]
  },
  {
   "cell_type": "markdown",
   "id": "36e0cff0-21ca-4b4c-bf75-102115fb815c",
   "metadata": {},
   "source": [
    "### Print out max and avg values in the column of \"Totalpay\"."
   ]
  },
  {
   "cell_type": "code",
   "execution_count": 41,
   "id": "1fe5b35f-5ed9-42f2-a19a-2e8d73fca44e",
   "metadata": {},
   "outputs": [
    {
     "data": {
      "text/plain": [
       "567595.43"
      ]
     },
     "execution_count": 41,
     "metadata": {},
     "output_type": "execute_result"
    }
   ],
   "source": [
    "df.TotalPay.max()"
   ]
  },
  {
   "cell_type": "code",
   "execution_count": 42,
   "id": "940fb36c-24b0-4c2c-ac2c-a530124aec71",
   "metadata": {},
   "outputs": [
    {
     "data": {
      "text/plain": [
       "74768.321971703"
      ]
     },
     "execution_count": 42,
     "metadata": {},
     "output_type": "execute_result"
    }
   ],
   "source": [
    "df.TotalPay.mean()"
   ]
  },
  {
   "cell_type": "markdown",
   "id": "c375cdec-04cd-4044-bf7b-60aa30192b96",
   "metadata": {},
   "source": [
    "### How many records in the TotalPay column are there bigger than avg TotalPay?"
   ]
  },
  {
   "cell_type": "code",
   "execution_count": 43,
   "id": "3484e01f-7b5e-4ab3-b8a9-43b47b675c02",
   "metadata": {},
   "outputs": [
    {
     "data": {
      "text/html": [
       "<div>\n",
       "<style scoped>\n",
       "    .dataframe tbody tr th:only-of-type {\n",
       "        vertical-align: middle;\n",
       "    }\n",
       "\n",
       "    .dataframe tbody tr th {\n",
       "        vertical-align: top;\n",
       "    }\n",
       "\n",
       "    .dataframe thead th {\n",
       "        text-align: right;\n",
       "    }\n",
       "</style>\n",
       "<table border=\"1\" class=\"dataframe\">\n",
       "  <thead>\n",
       "    <tr style=\"text-align: right;\">\n",
       "      <th></th>\n",
       "      <th>Id</th>\n",
       "      <th>EmployeeName</th>\n",
       "      <th>JobTitle</th>\n",
       "      <th>BasePay</th>\n",
       "      <th>OvertimePay</th>\n",
       "      <th>OtherPay</th>\n",
       "      <th>Benefits</th>\n",
       "      <th>TotalPay</th>\n",
       "      <th>TotalPayBenefits</th>\n",
       "      <th>Year</th>\n",
       "      <th>Notes</th>\n",
       "      <th>Agency</th>\n",
       "      <th>Status</th>\n",
       "    </tr>\n",
       "  </thead>\n",
       "  <tbody>\n",
       "    <tr>\n",
       "      <th>0</th>\n",
       "      <td>1</td>\n",
       "      <td>NATHANIEL FORD</td>\n",
       "      <td>GENERAL MANAGER-METROPOLITAN TRANSIT AUTHORITY</td>\n",
       "      <td>167411.18</td>\n",
       "      <td>0.00</td>\n",
       "      <td>400184.25</td>\n",
       "      <td>NaN</td>\n",
       "      <td>567595.43</td>\n",
       "      <td>567595.43</td>\n",
       "      <td>2011</td>\n",
       "      <td>NaN</td>\n",
       "      <td>San Francisco</td>\n",
       "      <td>NaN</td>\n",
       "    </tr>\n",
       "    <tr>\n",
       "      <th>1</th>\n",
       "      <td>2</td>\n",
       "      <td>GARY JIMENEZ</td>\n",
       "      <td>CAPTAIN III (POLICE DEPARTMENT)</td>\n",
       "      <td>155966.02</td>\n",
       "      <td>245131.88</td>\n",
       "      <td>137811.38</td>\n",
       "      <td>NaN</td>\n",
       "      <td>538909.28</td>\n",
       "      <td>538909.28</td>\n",
       "      <td>2011</td>\n",
       "      <td>NaN</td>\n",
       "      <td>San Francisco</td>\n",
       "      <td>NaN</td>\n",
       "    </tr>\n",
       "    <tr>\n",
       "      <th>2</th>\n",
       "      <td>3</td>\n",
       "      <td>ALBERT PARDINI</td>\n",
       "      <td>CAPTAIN III (POLICE DEPARTMENT)</td>\n",
       "      <td>212739.13</td>\n",
       "      <td>106088.18</td>\n",
       "      <td>16452.60</td>\n",
       "      <td>NaN</td>\n",
       "      <td>335279.91</td>\n",
       "      <td>335279.91</td>\n",
       "      <td>2011</td>\n",
       "      <td>NaN</td>\n",
       "      <td>San Francisco</td>\n",
       "      <td>NaN</td>\n",
       "    </tr>\n",
       "    <tr>\n",
       "      <th>3</th>\n",
       "      <td>4</td>\n",
       "      <td>CHRISTOPHER CHONG</td>\n",
       "      <td>WIRE ROPE CABLE MAINTENANCE MECHANIC</td>\n",
       "      <td>77916.00</td>\n",
       "      <td>56120.71</td>\n",
       "      <td>198306.90</td>\n",
       "      <td>NaN</td>\n",
       "      <td>332343.61</td>\n",
       "      <td>332343.61</td>\n",
       "      <td>2011</td>\n",
       "      <td>NaN</td>\n",
       "      <td>San Francisco</td>\n",
       "      <td>NaN</td>\n",
       "    </tr>\n",
       "    <tr>\n",
       "      <th>4</th>\n",
       "      <td>5</td>\n",
       "      <td>PATRICK GARDNER</td>\n",
       "      <td>DEPUTY CHIEF OF DEPARTMENT,(FIRE DEPARTMENT)</td>\n",
       "      <td>134401.60</td>\n",
       "      <td>9737.00</td>\n",
       "      <td>182234.59</td>\n",
       "      <td>NaN</td>\n",
       "      <td>326373.19</td>\n",
       "      <td>326373.19</td>\n",
       "      <td>2011</td>\n",
       "      <td>NaN</td>\n",
       "      <td>San Francisco</td>\n",
       "      <td>NaN</td>\n",
       "    </tr>\n",
       "    <tr>\n",
       "      <th>...</th>\n",
       "      <td>...</td>\n",
       "      <td>...</td>\n",
       "      <td>...</td>\n",
       "      <td>...</td>\n",
       "      <td>...</td>\n",
       "      <td>...</td>\n",
       "      <td>...</td>\n",
       "      <td>...</td>\n",
       "      <td>...</td>\n",
       "      <td>...</td>\n",
       "      <td>...</td>\n",
       "      <td>...</td>\n",
       "      <td>...</td>\n",
       "    </tr>\n",
       "    <tr>\n",
       "      <th>135701</th>\n",
       "      <td>135702</td>\n",
       "      <td>Christina S Jee</td>\n",
       "      <td>Nurse Practitioner</td>\n",
       "      <td>70635.61</td>\n",
       "      <td>0.00</td>\n",
       "      <td>6550.41</td>\n",
       "      <td>771.88</td>\n",
       "      <td>77186.02</td>\n",
       "      <td>77957.90</td>\n",
       "      <td>2014</td>\n",
       "      <td>NaN</td>\n",
       "      <td>San Francisco</td>\n",
       "      <td>NaN</td>\n",
       "    </tr>\n",
       "    <tr>\n",
       "      <th>135778</th>\n",
       "      <td>135779</td>\n",
       "      <td>Mary Ann T Abille</td>\n",
       "      <td>Special Nurse</td>\n",
       "      <td>60889.34</td>\n",
       "      <td>6815.67</td>\n",
       "      <td>9041.21</td>\n",
       "      <td>767.47</td>\n",
       "      <td>76746.22</td>\n",
       "      <td>77513.69</td>\n",
       "      <td>2014</td>\n",
       "      <td>NaN</td>\n",
       "      <td>San Francisco</td>\n",
       "      <td>NaN</td>\n",
       "    </tr>\n",
       "    <tr>\n",
       "      <th>135847</th>\n",
       "      <td>135848</td>\n",
       "      <td>Emilda E Reinosa</td>\n",
       "      <td>Special Nurse</td>\n",
       "      <td>76305.74</td>\n",
       "      <td>0.00</td>\n",
       "      <td>0.00</td>\n",
       "      <td>763.08</td>\n",
       "      <td>76305.74</td>\n",
       "      <td>77068.82</td>\n",
       "      <td>2014</td>\n",
       "      <td>NaN</td>\n",
       "      <td>San Francisco</td>\n",
       "      <td>NaN</td>\n",
       "    </tr>\n",
       "    <tr>\n",
       "      <th>135853</th>\n",
       "      <td>135854</td>\n",
       "      <td>David G Evans</td>\n",
       "      <td>Special Nurse</td>\n",
       "      <td>71178.15</td>\n",
       "      <td>2748.15</td>\n",
       "      <td>2354.40</td>\n",
       "      <td>762.81</td>\n",
       "      <td>76280.70</td>\n",
       "      <td>77043.51</td>\n",
       "      <td>2014</td>\n",
       "      <td>NaN</td>\n",
       "      <td>San Francisco</td>\n",
       "      <td>NaN</td>\n",
       "    </tr>\n",
       "    <tr>\n",
       "      <th>136063</th>\n",
       "      <td>136064</td>\n",
       "      <td>Nicole Joe</td>\n",
       "      <td>Special Nurse</td>\n",
       "      <td>61276.59</td>\n",
       "      <td>8538.44</td>\n",
       "      <td>5078.67</td>\n",
       "      <td>748.95</td>\n",
       "      <td>74893.70</td>\n",
       "      <td>75642.65</td>\n",
       "      <td>2014</td>\n",
       "      <td>NaN</td>\n",
       "      <td>San Francisco</td>\n",
       "      <td>NaN</td>\n",
       "    </tr>\n",
       "  </tbody>\n",
       "</table>\n",
       "<p>69489 rows × 13 columns</p>\n",
       "</div>"
      ],
      "text/plain": [
       "            Id       EmployeeName  \\\n",
       "0            1     NATHANIEL FORD   \n",
       "1            2       GARY JIMENEZ   \n",
       "2            3     ALBERT PARDINI   \n",
       "3            4  CHRISTOPHER CHONG   \n",
       "4            5    PATRICK GARDNER   \n",
       "...        ...                ...   \n",
       "135701  135702    Christina S Jee   \n",
       "135778  135779  Mary Ann T Abille   \n",
       "135847  135848   Emilda E Reinosa   \n",
       "135853  135854      David G Evans   \n",
       "136063  136064         Nicole Joe   \n",
       "\n",
       "                                              JobTitle    BasePay  \\\n",
       "0       GENERAL MANAGER-METROPOLITAN TRANSIT AUTHORITY  167411.18   \n",
       "1                      CAPTAIN III (POLICE DEPARTMENT)  155966.02   \n",
       "2                      CAPTAIN III (POLICE DEPARTMENT)  212739.13   \n",
       "3                 WIRE ROPE CABLE MAINTENANCE MECHANIC   77916.00   \n",
       "4         DEPUTY CHIEF OF DEPARTMENT,(FIRE DEPARTMENT)  134401.60   \n",
       "...                                                ...        ...   \n",
       "135701                              Nurse Practitioner   70635.61   \n",
       "135778                                   Special Nurse   60889.34   \n",
       "135847                                   Special Nurse   76305.74   \n",
       "135853                                   Special Nurse   71178.15   \n",
       "136063                                   Special Nurse   61276.59   \n",
       "\n",
       "        OvertimePay   OtherPay  Benefits   TotalPay  TotalPayBenefits  Year  \\\n",
       "0              0.00  400184.25       NaN  567595.43         567595.43  2011   \n",
       "1         245131.88  137811.38       NaN  538909.28         538909.28  2011   \n",
       "2         106088.18   16452.60       NaN  335279.91         335279.91  2011   \n",
       "3          56120.71  198306.90       NaN  332343.61         332343.61  2011   \n",
       "4           9737.00  182234.59       NaN  326373.19         326373.19  2011   \n",
       "...             ...        ...       ...        ...               ...   ...   \n",
       "135701         0.00    6550.41    771.88   77186.02          77957.90  2014   \n",
       "135778      6815.67    9041.21    767.47   76746.22          77513.69  2014   \n",
       "135847         0.00       0.00    763.08   76305.74          77068.82  2014   \n",
       "135853      2748.15    2354.40    762.81   76280.70          77043.51  2014   \n",
       "136063      8538.44    5078.67    748.95   74893.70          75642.65  2014   \n",
       "\n",
       "        Notes         Agency  Status  \n",
       "0         NaN  San Francisco     NaN  \n",
       "1         NaN  San Francisco     NaN  \n",
       "2         NaN  San Francisco     NaN  \n",
       "3         NaN  San Francisco     NaN  \n",
       "4         NaN  San Francisco     NaN  \n",
       "...       ...            ...     ...  \n",
       "135701    NaN  San Francisco     NaN  \n",
       "135778    NaN  San Francisco     NaN  \n",
       "135847    NaN  San Francisco     NaN  \n",
       "135853    NaN  San Francisco     NaN  \n",
       "136063    NaN  San Francisco     NaN  \n",
       "\n",
       "[69489 rows x 13 columns]"
      ]
     },
     "execution_count": 43,
     "metadata": {},
     "output_type": "execute_result"
    }
   ],
   "source": [
    "df[df.TotalPay.mean() < df.TotalPay]"
   ]
  },
  {
   "cell_type": "markdown",
   "id": "103cc33e-fd4a-43bb-9dd4-9bf32ba648d4",
   "metadata": {},
   "source": [
    "### How much does ALBERT PARDINI make money (including benefits)?"
   ]
  },
  {
   "cell_type": "code",
   "execution_count": 44,
   "id": "62fe8194-cca6-40f4-9072-d0eec189eb3d",
   "metadata": {},
   "outputs": [
    {
     "data": {
      "text/plain": [
       "2    335279.91\n",
       "Name: TotalPayBenefits, dtype: float64"
      ]
     },
     "execution_count": 44,
     "metadata": {},
     "output_type": "execute_result"
    }
   ],
   "source": [
    "df.iloc[[2], 8]"
   ]
  },
  {
   "cell_type": "markdown",
   "id": "d1ff9cf9-3c68-40bf-a33c-8aec825c8da9",
   "metadata": {},
   "source": [
    "### Who is the lowest paid person?"
   ]
  },
  {
   "cell_type": "code",
   "execution_count": 49,
   "id": "f3a4a009-94e1-4bcb-9a1a-f0361851455d",
   "metadata": {},
   "outputs": [
    {
     "data": {
      "text/html": [
       "<div>\n",
       "<style scoped>\n",
       "    .dataframe tbody tr th:only-of-type {\n",
       "        vertical-align: middle;\n",
       "    }\n",
       "\n",
       "    .dataframe tbody tr th {\n",
       "        vertical-align: top;\n",
       "    }\n",
       "\n",
       "    .dataframe thead th {\n",
       "        text-align: right;\n",
       "    }\n",
       "</style>\n",
       "<table border=\"1\" class=\"dataframe\">\n",
       "  <thead>\n",
       "    <tr style=\"text-align: right;\">\n",
       "      <th></th>\n",
       "      <th>EmployeeName</th>\n",
       "    </tr>\n",
       "  </thead>\n",
       "  <tbody>\n",
       "    <tr>\n",
       "      <th>148653</th>\n",
       "      <td>Joe Lopez</td>\n",
       "    </tr>\n",
       "  </tbody>\n",
       "</table>\n",
       "</div>"
      ],
      "text/plain": [
       "       EmployeeName\n",
       "148653    Joe Lopez"
      ]
     },
     "execution_count": 49,
     "metadata": {},
     "output_type": "execute_result"
    }
   ],
   "source": [
    "df[df[\"TotalPay\"].min() == df[\"TotalPay\"]][[\"EmployeeName\"]]"
   ]
  },
  {
   "cell_type": "markdown",
   "id": "cc2034e5-1b37-42c9-9971-5f4d4c626458",
   "metadata": {},
   "source": [
    "### What are the unique Jobs in dataset?"
   ]
  },
  {
   "cell_type": "code",
   "execution_count": 50,
   "id": "157d0306-f609-49fc-8e54-84d40bf3f2be",
   "metadata": {},
   "outputs": [
    {
     "data": {
      "text/plain": [
       "array(['GENERAL MANAGER-METROPOLITAN TRANSIT AUTHORITY',\n",
       "       'CAPTAIN III (POLICE DEPARTMENT)',\n",
       "       'WIRE ROPE CABLE MAINTENANCE MECHANIC', ..., 'Conversion',\n",
       "       'Cashier 3', 'Not provided'], dtype=object)"
      ]
     },
     "execution_count": 50,
     "metadata": {},
     "output_type": "execute_result"
    }
   ],
   "source": [
    "df.JobTitle.unique()"
   ]
  },
  {
   "cell_type": "markdown",
   "id": "31848e96-0936-475f-943b-da80c3bc36d2",
   "metadata": {},
   "source": [
    "### List the top 3 least common Jobs in the dataset."
   ]
  },
  {
   "cell_type": "code",
   "execution_count": 51,
   "id": "1927c2df-8464-4f0e-840d-3c768c2c3e50",
   "metadata": {},
   "outputs": [
    {
     "data": {
      "text/plain": [
       "COURT COMPUTER FACILITIES COORDINATOR             1\n",
       "AUTOMOTIVE BODY AND FENDER WORKER SUPERVISOR I    1\n",
       "VICTIM & WITNESS TECHNICIAN                       1\n",
       "Name: JobTitle, dtype: int64"
      ]
     },
     "execution_count": 51,
     "metadata": {},
     "output_type": "execute_result"
    }
   ],
   "source": [
    "df[\"JobTitle\"].value_counts().tail(3)"
   ]
  },
  {
   "cell_type": "markdown",
   "id": "1f2ea22e-ad0b-41d9-a393-dea8db2558a5",
   "metadata": {},
   "source": [
    "### How many people earned more than avg in 2012?"
   ]
  },
  {
   "cell_type": "code",
   "execution_count": 52,
   "id": "7eb63bf6-d743-4be4-aef5-6ed74312bbe3",
   "metadata": {},
   "outputs": [
    {
     "data": {
      "text/plain": [
       "20366"
      ]
     },
     "execution_count": 52,
     "metadata": {},
     "output_type": "execute_result"
    }
   ],
   "source": [
    "len(df[(df.TotalPayBenefits.mean() < df.TotalPayBenefits) & (df.Year == 2012)])"
   ]
  },
  {
   "cell_type": "markdown",
   "id": "11fe7bc9-7221-4aed-9ea2-187ebd7ce8ae",
   "metadata": {},
   "source": [
    "### How many people have a title of Manager in their jobs?"
   ]
  },
  {
   "cell_type": "code",
   "execution_count": 53,
   "id": "df10bbc7-5a38-4748-93fd-56cee99b676e",
   "metadata": {},
   "outputs": [
    {
     "data": {
      "text/plain": [
       "4110"
      ]
     },
     "execution_count": 53,
     "metadata": {},
     "output_type": "execute_result"
    }
   ],
   "source": [
    "df[\"JobTitle\"].apply(lambda x : \"manager\" in x.lower()).sum()"
   ]
  },
  {
   "cell_type": "markdown",
   "id": "a1dff9db-ec1b-4839-9177-a5dbc2e73caf",
   "metadata": {},
   "source": [
    "### Take Id, EmployeeName, JobTitle, TotalPay and TotalPayBenefits columns with iloc and assign them as sal_new dataframe."
   ]
  },
  {
   "cell_type": "code",
   "execution_count": 54,
   "id": "1a2663f6-8f14-442a-b739-5351c73946cb",
   "metadata": {},
   "outputs": [
    {
     "data": {
      "text/html": [
       "<div>\n",
       "<style scoped>\n",
       "    .dataframe tbody tr th:only-of-type {\n",
       "        vertical-align: middle;\n",
       "    }\n",
       "\n",
       "    .dataframe tbody tr th {\n",
       "        vertical-align: top;\n",
       "    }\n",
       "\n",
       "    .dataframe thead th {\n",
       "        text-align: right;\n",
       "    }\n",
       "</style>\n",
       "<table border=\"1\" class=\"dataframe\">\n",
       "  <thead>\n",
       "    <tr style=\"text-align: right;\">\n",
       "      <th></th>\n",
       "      <th>Id</th>\n",
       "      <th>EmployeeName</th>\n",
       "      <th>JobTitle</th>\n",
       "      <th>TotalPay</th>\n",
       "      <th>TotalPayBenefits</th>\n",
       "    </tr>\n",
       "  </thead>\n",
       "  <tbody>\n",
       "    <tr>\n",
       "      <th>0</th>\n",
       "      <td>1</td>\n",
       "      <td>NATHANIEL FORD</td>\n",
       "      <td>GENERAL MANAGER-METROPOLITAN TRANSIT AUTHORITY</td>\n",
       "      <td>567595.43</td>\n",
       "      <td>567595.43</td>\n",
       "    </tr>\n",
       "    <tr>\n",
       "      <th>1</th>\n",
       "      <td>2</td>\n",
       "      <td>GARY JIMENEZ</td>\n",
       "      <td>CAPTAIN III (POLICE DEPARTMENT)</td>\n",
       "      <td>538909.28</td>\n",
       "      <td>538909.28</td>\n",
       "    </tr>\n",
       "    <tr>\n",
       "      <th>2</th>\n",
       "      <td>3</td>\n",
       "      <td>ALBERT PARDINI</td>\n",
       "      <td>CAPTAIN III (POLICE DEPARTMENT)</td>\n",
       "      <td>335279.91</td>\n",
       "      <td>335279.91</td>\n",
       "    </tr>\n",
       "    <tr>\n",
       "      <th>3</th>\n",
       "      <td>4</td>\n",
       "      <td>CHRISTOPHER CHONG</td>\n",
       "      <td>WIRE ROPE CABLE MAINTENANCE MECHANIC</td>\n",
       "      <td>332343.61</td>\n",
       "      <td>332343.61</td>\n",
       "    </tr>\n",
       "    <tr>\n",
       "      <th>4</th>\n",
       "      <td>5</td>\n",
       "      <td>PATRICK GARDNER</td>\n",
       "      <td>DEPUTY CHIEF OF DEPARTMENT,(FIRE DEPARTMENT)</td>\n",
       "      <td>326373.19</td>\n",
       "      <td>326373.19</td>\n",
       "    </tr>\n",
       "    <tr>\n",
       "      <th>...</th>\n",
       "      <td>...</td>\n",
       "      <td>...</td>\n",
       "      <td>...</td>\n",
       "      <td>...</td>\n",
       "      <td>...</td>\n",
       "    </tr>\n",
       "    <tr>\n",
       "      <th>148649</th>\n",
       "      <td>148650</td>\n",
       "      <td>Roy I Tillery</td>\n",
       "      <td>Custodian</td>\n",
       "      <td>0.00</td>\n",
       "      <td>0.00</td>\n",
       "    </tr>\n",
       "    <tr>\n",
       "      <th>148650</th>\n",
       "      <td>148651</td>\n",
       "      <td>Not provided</td>\n",
       "      <td>Not provided</td>\n",
       "      <td>0.00</td>\n",
       "      <td>0.00</td>\n",
       "    </tr>\n",
       "    <tr>\n",
       "      <th>148651</th>\n",
       "      <td>148652</td>\n",
       "      <td>Not provided</td>\n",
       "      <td>Not provided</td>\n",
       "      <td>0.00</td>\n",
       "      <td>0.00</td>\n",
       "    </tr>\n",
       "    <tr>\n",
       "      <th>148652</th>\n",
       "      <td>148653</td>\n",
       "      <td>Not provided</td>\n",
       "      <td>Not provided</td>\n",
       "      <td>0.00</td>\n",
       "      <td>0.00</td>\n",
       "    </tr>\n",
       "    <tr>\n",
       "      <th>148653</th>\n",
       "      <td>148654</td>\n",
       "      <td>Joe Lopez</td>\n",
       "      <td>Counselor, Log Cabin Ranch</td>\n",
       "      <td>-618.13</td>\n",
       "      <td>-618.13</td>\n",
       "    </tr>\n",
       "  </tbody>\n",
       "</table>\n",
       "<p>148654 rows × 5 columns</p>\n",
       "</div>"
      ],
      "text/plain": [
       "            Id       EmployeeName  \\\n",
       "0            1     NATHANIEL FORD   \n",
       "1            2       GARY JIMENEZ   \n",
       "2            3     ALBERT PARDINI   \n",
       "3            4  CHRISTOPHER CHONG   \n",
       "4            5    PATRICK GARDNER   \n",
       "...        ...                ...   \n",
       "148649  148650      Roy I Tillery   \n",
       "148650  148651       Not provided   \n",
       "148651  148652       Not provided   \n",
       "148652  148653       Not provided   \n",
       "148653  148654          Joe Lopez   \n",
       "\n",
       "                                              JobTitle   TotalPay  \\\n",
       "0       GENERAL MANAGER-METROPOLITAN TRANSIT AUTHORITY  567595.43   \n",
       "1                      CAPTAIN III (POLICE DEPARTMENT)  538909.28   \n",
       "2                      CAPTAIN III (POLICE DEPARTMENT)  335279.91   \n",
       "3                 WIRE ROPE CABLE MAINTENANCE MECHANIC  332343.61   \n",
       "4         DEPUTY CHIEF OF DEPARTMENT,(FIRE DEPARTMENT)  326373.19   \n",
       "...                                                ...        ...   \n",
       "148649                                       Custodian       0.00   \n",
       "148650                                    Not provided       0.00   \n",
       "148651                                    Not provided       0.00   \n",
       "148652                                    Not provided       0.00   \n",
       "148653                      Counselor, Log Cabin Ranch    -618.13   \n",
       "\n",
       "        TotalPayBenefits  \n",
       "0              567595.43  \n",
       "1              538909.28  \n",
       "2              335279.91  \n",
       "3              332343.61  \n",
       "4              326373.19  \n",
       "...                  ...  \n",
       "148649              0.00  \n",
       "148650              0.00  \n",
       "148651              0.00  \n",
       "148652              0.00  \n",
       "148653           -618.13  \n",
       "\n",
       "[148654 rows x 5 columns]"
      ]
     },
     "execution_count": 54,
     "metadata": {},
     "output_type": "execute_result"
    }
   ],
   "source": [
    "sal_new = df.iloc[:, [0, 1, 2, 7, 8]]\n",
    "sal_new"
   ]
  },
  {
   "cell_type": "markdown",
   "id": "145a1c8e-390d-432f-9cd6-e20b0951dcd3",
   "metadata": {},
   "source": [
    "### Take the columns betweeen EmployeeName and TotalPayBenefits with loc and assign them as sal_new df."
   ]
  },
  {
   "cell_type": "code",
   "execution_count": 55,
   "id": "d5ae464b-539c-4e17-af63-f939fa371fce",
   "metadata": {},
   "outputs": [
    {
     "data": {
      "text/html": [
       "<div>\n",
       "<style scoped>\n",
       "    .dataframe tbody tr th:only-of-type {\n",
       "        vertical-align: middle;\n",
       "    }\n",
       "\n",
       "    .dataframe tbody tr th {\n",
       "        vertical-align: top;\n",
       "    }\n",
       "\n",
       "    .dataframe thead th {\n",
       "        text-align: right;\n",
       "    }\n",
       "</style>\n",
       "<table border=\"1\" class=\"dataframe\">\n",
       "  <thead>\n",
       "    <tr style=\"text-align: right;\">\n",
       "      <th></th>\n",
       "      <th>EmployeeName</th>\n",
       "      <th>JobTitle</th>\n",
       "      <th>TotalPay</th>\n",
       "      <th>TotalPayBenefits</th>\n",
       "    </tr>\n",
       "  </thead>\n",
       "  <tbody>\n",
       "    <tr>\n",
       "      <th>0</th>\n",
       "      <td>NATHANIEL FORD</td>\n",
       "      <td>GENERAL MANAGER-METROPOLITAN TRANSIT AUTHORITY</td>\n",
       "      <td>567595.43</td>\n",
       "      <td>567595.43</td>\n",
       "    </tr>\n",
       "    <tr>\n",
       "      <th>1</th>\n",
       "      <td>GARY JIMENEZ</td>\n",
       "      <td>CAPTAIN III (POLICE DEPARTMENT)</td>\n",
       "      <td>538909.28</td>\n",
       "      <td>538909.28</td>\n",
       "    </tr>\n",
       "    <tr>\n",
       "      <th>2</th>\n",
       "      <td>ALBERT PARDINI</td>\n",
       "      <td>CAPTAIN III (POLICE DEPARTMENT)</td>\n",
       "      <td>335279.91</td>\n",
       "      <td>335279.91</td>\n",
       "    </tr>\n",
       "    <tr>\n",
       "      <th>3</th>\n",
       "      <td>CHRISTOPHER CHONG</td>\n",
       "      <td>WIRE ROPE CABLE MAINTENANCE MECHANIC</td>\n",
       "      <td>332343.61</td>\n",
       "      <td>332343.61</td>\n",
       "    </tr>\n",
       "    <tr>\n",
       "      <th>4</th>\n",
       "      <td>PATRICK GARDNER</td>\n",
       "      <td>DEPUTY CHIEF OF DEPARTMENT,(FIRE DEPARTMENT)</td>\n",
       "      <td>326373.19</td>\n",
       "      <td>326373.19</td>\n",
       "    </tr>\n",
       "    <tr>\n",
       "      <th>...</th>\n",
       "      <td>...</td>\n",
       "      <td>...</td>\n",
       "      <td>...</td>\n",
       "      <td>...</td>\n",
       "    </tr>\n",
       "    <tr>\n",
       "      <th>148649</th>\n",
       "      <td>Roy I Tillery</td>\n",
       "      <td>Custodian</td>\n",
       "      <td>0.00</td>\n",
       "      <td>0.00</td>\n",
       "    </tr>\n",
       "    <tr>\n",
       "      <th>148650</th>\n",
       "      <td>Not provided</td>\n",
       "      <td>Not provided</td>\n",
       "      <td>0.00</td>\n",
       "      <td>0.00</td>\n",
       "    </tr>\n",
       "    <tr>\n",
       "      <th>148651</th>\n",
       "      <td>Not provided</td>\n",
       "      <td>Not provided</td>\n",
       "      <td>0.00</td>\n",
       "      <td>0.00</td>\n",
       "    </tr>\n",
       "    <tr>\n",
       "      <th>148652</th>\n",
       "      <td>Not provided</td>\n",
       "      <td>Not provided</td>\n",
       "      <td>0.00</td>\n",
       "      <td>0.00</td>\n",
       "    </tr>\n",
       "    <tr>\n",
       "      <th>148653</th>\n",
       "      <td>Joe Lopez</td>\n",
       "      <td>Counselor, Log Cabin Ranch</td>\n",
       "      <td>-618.13</td>\n",
       "      <td>-618.13</td>\n",
       "    </tr>\n",
       "  </tbody>\n",
       "</table>\n",
       "<p>148654 rows × 4 columns</p>\n",
       "</div>"
      ],
      "text/plain": [
       "             EmployeeName                                        JobTitle  \\\n",
       "0          NATHANIEL FORD  GENERAL MANAGER-METROPOLITAN TRANSIT AUTHORITY   \n",
       "1            GARY JIMENEZ                 CAPTAIN III (POLICE DEPARTMENT)   \n",
       "2          ALBERT PARDINI                 CAPTAIN III (POLICE DEPARTMENT)   \n",
       "3       CHRISTOPHER CHONG            WIRE ROPE CABLE MAINTENANCE MECHANIC   \n",
       "4         PATRICK GARDNER    DEPUTY CHIEF OF DEPARTMENT,(FIRE DEPARTMENT)   \n",
       "...                   ...                                             ...   \n",
       "148649      Roy I Tillery                                       Custodian   \n",
       "148650       Not provided                                    Not provided   \n",
       "148651       Not provided                                    Not provided   \n",
       "148652       Not provided                                    Not provided   \n",
       "148653          Joe Lopez                      Counselor, Log Cabin Ranch   \n",
       "\n",
       "         TotalPay  TotalPayBenefits  \n",
       "0       567595.43         567595.43  \n",
       "1       538909.28         538909.28  \n",
       "2       335279.91         335279.91  \n",
       "3       332343.61         332343.61  \n",
       "4       326373.19         326373.19  \n",
       "...           ...               ...  \n",
       "148649       0.00              0.00  \n",
       "148650       0.00              0.00  \n",
       "148651       0.00              0.00  \n",
       "148652       0.00              0.00  \n",
       "148653    -618.13           -618.13  \n",
       "\n",
       "[148654 rows x 4 columns]"
      ]
     },
     "execution_count": 55,
     "metadata": {},
     "output_type": "execute_result"
    }
   ],
   "source": [
    "sal_new = df.loc[: ,[\"EmployeeName\" ,\"JobTitle\", \"TotalPay\", \"TotalPayBenefits\"]]\n",
    "sal_new"
   ]
  },
  {
   "cell_type": "markdown",
   "id": "93fa783d-78e7-44f9-a7bd-9fe7ecb80666",
   "metadata": {},
   "source": [
    "### Print out the names of the employees who earn more than min but less than avg."
   ]
  },
  {
   "cell_type": "code",
   "execution_count": 56,
   "id": "d4a74107-38d4-449b-9751-88a7798ebeea",
   "metadata": {},
   "outputs": [
    {
     "data": {
      "text/plain": [
       "-618.13"
      ]
     },
     "execution_count": 56,
     "metadata": {},
     "output_type": "execute_result"
    }
   ],
   "source": [
    "a = sal_new.TotalPayBenefits.min()\n",
    "a"
   ]
  },
  {
   "cell_type": "code",
   "execution_count": 57,
   "id": "17b8b62a-a48b-43f0-8b2e-0264f1cabe91",
   "metadata": {},
   "outputs": [
    {
     "data": {
      "text/plain": [
       "93692.55481056834"
      ]
     },
     "execution_count": 57,
     "metadata": {},
     "output_type": "execute_result"
    }
   ],
   "source": [
    "b = sal_new.TotalPayBenefits.mean()\n",
    "b"
   ]
  },
  {
   "cell_type": "code",
   "execution_count": 58,
   "id": "14c99b49-0cbe-4791-a705-bed480a5b817",
   "metadata": {},
   "outputs": [
    {
     "data": {
      "text/html": [
       "<div>\n",
       "<style scoped>\n",
       "    .dataframe tbody tr th:only-of-type {\n",
       "        vertical-align: middle;\n",
       "    }\n",
       "\n",
       "    .dataframe tbody tr th {\n",
       "        vertical-align: top;\n",
       "    }\n",
       "\n",
       "    .dataframe thead th {\n",
       "        text-align: right;\n",
       "    }\n",
       "</style>\n",
       "<table border=\"1\" class=\"dataframe\">\n",
       "  <thead>\n",
       "    <tr style=\"text-align: right;\">\n",
       "      <th></th>\n",
       "      <th>EmployeeName</th>\n",
       "      <th>TotalPayBenefits</th>\n",
       "    </tr>\n",
       "  </thead>\n",
       "  <tbody>\n",
       "    <tr>\n",
       "      <th>10806</th>\n",
       "      <td>KWE LEE</td>\n",
       "      <td>93691.15</td>\n",
       "    </tr>\n",
       "    <tr>\n",
       "      <th>10807</th>\n",
       "      <td>MIGUEL CARO JR</td>\n",
       "      <td>93682.74</td>\n",
       "    </tr>\n",
       "    <tr>\n",
       "      <th>10808</th>\n",
       "      <td>JOANNE MORRIS</td>\n",
       "      <td>93680.53</td>\n",
       "    </tr>\n",
       "    <tr>\n",
       "      <th>10809</th>\n",
       "      <td>LAYLA WELBORN</td>\n",
       "      <td>93676.88</td>\n",
       "    </tr>\n",
       "    <tr>\n",
       "      <th>10810</th>\n",
       "      <td>LE BANH</td>\n",
       "      <td>93675.39</td>\n",
       "    </tr>\n",
       "    <tr>\n",
       "      <th>...</th>\n",
       "      <td>...</td>\n",
       "      <td>...</td>\n",
       "    </tr>\n",
       "    <tr>\n",
       "      <th>148648</th>\n",
       "      <td>Leon Walker</td>\n",
       "      <td>0.00</td>\n",
       "    </tr>\n",
       "    <tr>\n",
       "      <th>148649</th>\n",
       "      <td>Roy I Tillery</td>\n",
       "      <td>0.00</td>\n",
       "    </tr>\n",
       "    <tr>\n",
       "      <th>148650</th>\n",
       "      <td>Not provided</td>\n",
       "      <td>0.00</td>\n",
       "    </tr>\n",
       "    <tr>\n",
       "      <th>148651</th>\n",
       "      <td>Not provided</td>\n",
       "      <td>0.00</td>\n",
       "    </tr>\n",
       "    <tr>\n",
       "      <th>148652</th>\n",
       "      <td>Not provided</td>\n",
       "      <td>0.00</td>\n",
       "    </tr>\n",
       "  </tbody>\n",
       "</table>\n",
       "<p>75649 rows × 2 columns</p>\n",
       "</div>"
      ],
      "text/plain": [
       "          EmployeeName  TotalPayBenefits\n",
       "10806          KWE LEE          93691.15\n",
       "10807   MIGUEL CARO JR          93682.74\n",
       "10808    JOANNE MORRIS          93680.53\n",
       "10809    LAYLA WELBORN          93676.88\n",
       "10810          LE BANH          93675.39\n",
       "...                ...               ...\n",
       "148648     Leon Walker              0.00\n",
       "148649   Roy I Tillery              0.00\n",
       "148650    Not provided              0.00\n",
       "148651    Not provided              0.00\n",
       "148652    Not provided              0.00\n",
       "\n",
       "[75649 rows x 2 columns]"
      ]
     },
     "execution_count": 58,
     "metadata": {},
     "output_type": "execute_result"
    }
   ],
   "source": [
    "sal_new[(sal_new.TotalPayBenefits < b) & (sal_new.TotalPayBenefits > a)][[\"EmployeeName\", \"TotalPayBenefits\"]]"
   ]
  },
  {
   "cell_type": "code",
   "execution_count": null,
   "id": "1c9e7710-1e40-45cf-beb4-ea72e82c5291",
   "metadata": {},
   "outputs": [],
   "source": []
  }
 ],
 "metadata": {
  "kernelspec": {
   "display_name": "Python 3 (ipykernel)",
   "language": "python",
   "name": "python3"
  },
  "language_info": {
   "codemirror_mode": {
    "name": "ipython",
    "version": 3
   },
   "file_extension": ".py",
   "mimetype": "text/x-python",
   "name": "python",
   "nbconvert_exporter": "python",
   "pygments_lexer": "ipython3",
   "version": "3.9.12"
  }
 },
 "nbformat": 4,
 "nbformat_minor": 5
}
