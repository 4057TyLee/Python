{
 "cells": [
  {
   "cell_type": "code",
   "execution_count": null,
   "id": "1aaa3a87-365b-4471-ac92-5037cbede41c",
   "metadata": {},
   "outputs": [],
   "source": [
    "#Covid-19 Risk with if Statements\n",
    "# Task : Estimating the risk of death from coronavirus. Write a program that;\n",
    "# Takes \"Yes\" or \"No\" from the user as an answer to the following questions :\n",
    "# Are you a cigarette addict older than 75 years old? Variable → age\n",
    "# Do you have a severe chronic disease? Variable → chronic\n",
    "# Is your immune system too weak? Variable → immune"
   ]
  },
  {
   "cell_type": "code",
   "execution_count": 1,
   "id": "b2db5079-75d2-4c5b-b1dc-500efb80678c",
   "metadata": {},
   "outputs": [
    {
     "name": "stdin",
     "output_type": "stream",
     "text": [
      "Are you a cigarette addict older than 75 years old?  no\n",
      "Do you have a severe chronic disease? yes\n",
      "Is your immune system too weak? yes\n"
     ]
    },
    {
     "name": "stdout",
     "output_type": "stream",
     "text": [
      "you are in risky group\n"
     ]
    }
   ],
   "source": [
    "age = input(\"Are you a cigarette addict older than 75 years old? \") == 'yes'\n",
    "chronic = input(\"Do you have a severe chronic disease?\") == 'yes'\n",
    "immune = input(\"Is your immune system too weak?\") == 'yes'\n",
    "\n",
    "if age or chronic or immune :\n",
    "     print('you are in risky group')\n",
    "\n",
    "else :\n",
    "    print('you are not in risky group')  "
   ]
  },
  {
   "cell_type": "code",
   "execution_count": null,
   "id": "d6a97e87-f097-4d1d-944e-ce4eb258b06d",
   "metadata": {},
   "outputs": [],
   "source": [
    "#Write a Python program that prints such as \"2020 is a leap year\" if the given year by the user is a leap year,\n",
    "#prints such as \"2019 is not a leap year\" otherwise."
   ]
  },
  {
   "cell_type": "code",
   "execution_count": 4,
   "id": "beebc729-ddb7-46ce-badb-5257e64ab6fb",
   "metadata": {},
   "outputs": [
    {
     "name": "stdin",
     "output_type": "stream",
     "text": [
      "Please enter a year:  2023\n"
     ]
    },
    {
     "name": "stdout",
     "output_type": "stream",
     "text": [
      "2023 is not a leap year\n"
     ]
    }
   ],
   "source": [
    "year = int(input(\"Please enter a year: \"))\n",
    "\n",
    "if not year % 400 or (not year % 4 and year % 100):\n",
    "\n",
    "    print(f\"{year} is a leap year\")\n",
    "\n",
    "else:\n",
    "\n",
    "    print(f\"{year} is not a leap year\")"
   ]
  },
  {
   "cell_type": "code",
   "execution_count": null,
   "id": "76f04ab4-8731-479e-988f-5397bbab05c3",
   "metadata": {},
   "outputs": [],
   "source": [
    "# Task:  \n",
    "# Write a Python program that;\n",
    "# takes a positive integer number from the user,\n",
    "# checks the entered number if it is Armstrong,\n",
    "# consider the negative, float and any entries other than numeric values then display a warning message to the user.\n",
    "#(An n-digit number that is the sum of the nth powers of its digits is called an n-Armstrong number.)"
   ]
  },
  {
   "cell_type": "code",
   "execution_count": null,
   "id": "8616da9f-9cd2-4260-96bf-7a179c073fed",
   "metadata": {},
   "outputs": [],
   "source": [
    "#  For example, let's take the number 407.\n",
    "# (4^3)+ (0^3)+(7^3) = 64+0+343 = 407. This shows that the number 407 is an armstrong number."
   ]
  },
  {
   "cell_type": "code",
   "execution_count": 5,
   "id": "3f32a8e8-a63d-4ce8-914c-88a8ec4b609e",
   "metadata": {},
   "outputs": [
    {
     "name": "stdin",
     "output_type": "stream",
     "text": [
      "enter a positive integer number: 153\n"
     ]
    },
    {
     "name": "stdout",
     "output_type": "stream",
     "text": [
      "153 is an Armstrong number\n"
     ]
    }
   ],
   "source": [
    "while True :       \n",
    "    \n",
    "    number = input(\"enter a positive integer number:\")\n",
    "    \n",
    "    digits = len(number)\n",
    "    \n",
    "    sum_ = 0    \n",
    "    \n",
    "    if not number.isdigit() :\n",
    "        \n",
    "        print(number, \"is invalid entry. Please enter valid input.\")\n",
    "        \n",
    "    elif int(number) >= 0 :\n",
    "        \n",
    "        for i in range(len(number)):    \n",
    "           \n",
    "            sum_ = sum_ + int(number[i]) ** digits\n",
    "    \n",
    "        if sum_ == int(number) :\n",
    "            \n",
    "            print(number, \"is an Armstrong number\")\n",
    "            break\n",
    "        else :\n",
    "            print(number, \"is not an Armstrong number\")\n",
    "            break"
   ]
  },
  {
   "cell_type": "code",
   "execution_count": null,
   "id": "66c8926d-7e6e-4ddf-b24e-b9be67643848",
   "metadata": {},
   "outputs": [],
   "source": [
    "# Task : Write a program that takes a number from the user and prints the result to check if it is a prime number."
   ]
  },
  {
   "cell_type": "code",
   "execution_count": 2,
   "id": "3ec5c74d-c8c8-4578-8b2f-b5a73802209c",
   "metadata": {},
   "outputs": [
    {
     "name": "stdin",
     "output_type": "stream",
     "text": [
      "Enter a positive integer number to check if it is a Prime Number : 22\n"
     ]
    },
    {
     "name": "stdout",
     "output_type": "stream",
     "text": [
      "22 is Not a Prime Number\n"
     ]
    }
   ],
   "source": [
    "n = int(input(\"Enter a positive integer number to check if it is a Prime Number :\"))\n",
    "\n",
    "counter = 0\n",
    "\n",
    "for i in range(2, n) :\n",
    "    if n % i == 0 :\n",
    "        counter += 1\n",
    "        \n",
    "if (n == 0) or (n == 1) or counter > 0 :\n",
    "    print(n, \"is Not a Prime Number\")\n",
    "    \n",
    "else :\n",
    "    print(n, \"is a Prime Number\")"
   ]
  },
  {
   "cell_type": "code",
   "execution_count": null,
   "id": "37d8ec38-635d-45e5-a46f-42af56f26572",
   "metadata": {},
   "outputs": [],
   "source": [
    "#Task : Create a list consisting of Fibonacci numbers from 1 to 55 using control flow statements and range() function."
   ]
  },
  {
   "cell_type": "code",
   "execution_count": 1,
   "id": "353b3938-87de-4aa5-92cc-e30727d515d7",
   "metadata": {},
   "outputs": [
    {
     "name": "stdin",
     "output_type": "stream",
     "text": [
      "enter the number of sequence of Fibonacci 10\n"
     ]
    },
    {
     "name": "stdout",
     "output_type": "stream",
     "text": [
      "[1, 1, 2, 3, 5, 8, 13, 21, 34, 55]\n"
     ]
    }
   ],
   "source": [
    "n = int(input(\"enter the number of sequence of Fibonacci\"))\n",
    "fibo = [1, 1]\n",
    "for i in range(n - 2):\n",
    "    fibo.append(fibo[i] + fibo[i +1])\n",
    "    \n",
    "print(fibo)"
   ]
  },
  {
   "cell_type": "code",
   "execution_count": null,
   "id": "7f315960-a25e-482d-a845-0b4d89e1f505",
   "metadata": {},
   "outputs": [],
   "source": []
  }
 ],
 "metadata": {
  "kernelspec": {
   "display_name": "Python 3 (ipykernel)",
   "language": "python",
   "name": "python3"
  },
  "language_info": {
   "codemirror_mode": {
    "name": "ipython",
    "version": 3
   },
   "file_extension": ".py",
   "mimetype": "text/x-python",
   "name": "python",
   "nbconvert_exporter": "python",
   "pygments_lexer": "ipython3",
   "version": "3.9.12"
  }
 },
 "nbformat": 4,
 "nbformat_minor": 5
}
