{
 "cells": [
  {
   "cell_type": "code",
   "execution_count": null,
   "id": "33b7af8e-a907-4d11-9396-b6721d521c51",
   "metadata": {},
   "outputs": [],
   "source": [
    "# I want to find the most frequent number and its frequency.\n",
    "# So I will write a program that;\n",
    "# Finds out the most frequent number in the given list and calculate its frequency."
   ]
  },
  {
   "cell_type": "code",
   "execution_count": 1,
   "id": "1e1f4526-ea22-42cd-ae37-3431a242c2cb",
   "metadata": {},
   "outputs": [
    {
     "name": "stdout",
     "output_type": "stream",
     "text": [
      "the most frequent number is 3 and it was 6 times repeated\n"
     ]
    }
   ],
   "source": [
    "numbers = [1, 3, 7, 4, 3, 0, 3, 6, 3, 8, 9, 3, 1, 0, 3, 4]\n",
    "\n",
    "most_freq = max(set(numbers), key = numbers.count) # here gives me the most frequent one \n",
    "\n",
    "repeated = numbers.count(most_freq) # then I put it inside the count method\n",
    "\n",
    "numbers = \"the most frequent number is {} and it was {} times repeated\".format(most_freq, repeated)\n",
    "\n",
    "print(numbers)"
   ]
  },
  {
   "cell_type": "code",
   "execution_count": null,
   "id": "fcae9470-3035-4b96-9133-fd3d20983df9",
   "metadata": {
    "tags": []
   },
   "outputs": [],
   "source": [
    "# Task :\n",
    "#You work for a manufacturer as a programmer and \n",
    "# have been asked to calculate the total profit made on the sales of a product.\n",
    "# You are given a dictionary (sales) containing the cost price per unit (in dollars),\n",
    "# sell price per unit (in dollars), and the beginning inventory.\n",
    "# Write a program to return the total profit made, rounded to the nearest dollar.\n",
    "# Assume all of the inventory has been sold. The name and the keys of the dictionary are constant, \n",
    "# so use them as they are.The example of the values (sell-cost value, inventory) and total profit :\n",
    "\n",
    "# sales = {\n",
    "#   \"cost_value\": 31.87,\n",
    "#   \"sell_value\": 45.00,\n",
    "#   \"inventory\": 1000\n",
    "# }  \n",
    "\n",
    "# the profit will be : 13130"
   ]
  },
  {
   "cell_type": "code",
   "execution_count": 3,
   "id": "264eb0b3-2d61-41e7-8f97-d6e863563777",
   "metadata": {},
   "outputs": [
    {
     "name": "stdout",
     "output_type": "stream",
     "text": [
      "13129.999999999998\n",
      "13130\n",
      "13130.0\n"
     ]
    }
   ],
   "source": [
    "sales = {\n",
    "\n",
    "  \"cost_value\": 31.87,  \n",
    "\n",
    "  \"sell_value\": 45.00,  \n",
    "\n",
    "  \"inventory\": 1000     \n",
    "\n",
    "} \n",
    "total_profit = (sales[\"sell_value\"] - sales[\"cost_value\"]) * sales[\"inventory\"]\n",
    "\n",
    "print(total_profit)\n",
    "print(round(total_profit))\n",
    "print(round(total_profit, 2))"
   ]
  },
  {
   "cell_type": "code",
   "execution_count": null,
   "id": "095cdf1b-49b7-47d0-bcff-9eacb05131aa",
   "metadata": {},
   "outputs": [],
   "source": [
    "#Task : Find out if the given word is \"comfortable words\" in relation to the ten-finger keyboard use.\n",
    "# A comfortable word is a word which you can type always alternating the hand you type with (assuming you type using a Q-keyboard and use of the ten-fingers standard).\n",
    "# The word will always be a string consisting of only letters from a to z.\n",
    "# Write a program which returns True if it's a comfortable word or False otherwise."
   ]
  },
  {
   "cell_type": "code",
   "execution_count": 1,
   "id": "0403d3fc-dcce-4522-9b40-ec0cdbc2e87f",
   "metadata": {},
   "outputs": [
    {
     "name": "stdin",
     "output_type": "stream",
     "text": [
      "enter a word : tester\n"
     ]
    },
    {
     "name": "stdout",
     "output_type": "stream",
     "text": [
      "\n",
      "'tester' is a not comfortable word\n"
     ]
    }
   ],
   "source": [
    "word = input(\"enter a word :\")\n",
    "\n",
    "left = set(\"qwertasdfgzxcvb\")\n",
    "\n",
    "right = set(\"yuiophjklmn\")\n",
    "\n",
    "leftcheck = bool(set(word).difference(left))\n",
    "rightcheck = bool(set(word).difference(right))\n",
    "\n",
    "result = leftcheck and rightcheck\n",
    "\n",
    "print(f\"'{word}' is a comfortable word\" * int(result))\n",
    "print(f\"'{word}' is a not comfortable word\" * int(not result))"
   ]
  },
  {
   "cell_type": "code",
   "execution_count": null,
   "id": "845131f7-f3b1-4dc4-a604-45a4bd63f1b3",
   "metadata": {},
   "outputs": [],
   "source": [
    "# Task : Let's say; you left a message in the past that prints a password you need.\n",
    "# To see the password you wrote, you need to enter your name and the program should recognize you.\n",
    "# Write a program that: Takes the first name from the user and compares it to yours"
   ]
  },
  {
   "cell_type": "code",
   "execution_count": 2,
   "id": "a1d3d3cd-2382-4e70-a0a7-bdceb158ff44",
   "metadata": {},
   "outputs": [
    {
     "name": "stdin",
     "output_type": "stream",
     "text": [
      "Please enter your name to learn your password: edward\n"
     ]
    },
    {
     "name": "stdout",
     "output_type": "stream",
     "text": [
      "Hello, Edward! Your password is : edWard%&919{]_clr\n"
     ]
    }
   ],
   "source": [
    "name = \"Edward\"\n",
    "\n",
    "password = \"edWard%&919{]_clr\"\n",
    "\n",
    "given_name = input(\"Please enter your name to learn your password:\")\n",
    "\n",
    "if given_name.title() == name :\n",
    "    print(f\"Hello, {name}! Your password is : {password}\")\n",
    "    \n",
    "else :\n",
    "    print(f\"Hello {given_name.title()}! See you later\")"
   ]
  }
 ],
 "metadata": {
  "kernelspec": {
   "display_name": "Python 3 (ipykernel)",
   "language": "python",
   "name": "python3"
  },
  "language_info": {
   "codemirror_mode": {
    "name": "ipython",
    "version": 3
   },
   "file_extension": ".py",
   "mimetype": "text/x-python",
   "name": "python",
   "nbconvert_exporter": "python",
   "pygments_lexer": "ipython3",
   "version": "3.9.12"
  }
 },
 "nbformat": 4,
 "nbformat_minor": 5
}
