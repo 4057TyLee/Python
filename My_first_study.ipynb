{
 "cells": [
  {
   "cell_type": "code",
   "execution_count": null,
   "id": "c5a9d3f9-c822-4305-a4ee-9d6f662b9872",
   "metadata": {},
   "outputs": [],
   "source": [
    "# Problem: If you had deposited a coin on the cryptocurrency exchange that brought 7% fixed profit daily for a week\n",
    "# how much would your $ 1000 reach at the end of the 7th day?"
   ]
  },
  {
   "cell_type": "code",
   "execution_count": 6,
   "id": "f55fb711-b397-4272-ab05-a21b13baf188",
   "metadata": {},
   "outputs": [
    {
     "name": "stdout",
     "output_type": "stream",
     "text": [
      "earning_rate : 1.6057814764784306\n",
      "gain : 1605.7814764784307\n"
     ]
    }
   ],
   "source": [
    "depozit = 1000              # your $ 1000\n",
    "fixed_profit_daily = 0.07   # steady profit per day\n",
    "duration = 7                # the total time\n",
    "\n",
    "earning_rate = (1 + fixed_profit_daily)**duration       # calculating the earnings ratio\n",
    "print(\"earning_rate :\", earning_rate)\n",
    "\n",
    "gain = depozit * earning_rate       # At the end of the 7th day my coin\n",
    "print(\"gain :\", gain)"
   ]
  },
  {
   "cell_type": "code",
   "execution_count": null,
   "id": "225a4c6e-2d3e-4c64-befe-57f9a126661e",
   "metadata": {},
   "outputs": [],
   "source": [
    "# Task: Estimating the risk of death from coronavirus.\n",
    "\n",
    "# Consider the following questions in terms of True/False regarding someone else.\n",
    "\n",
    "# Are you a cigarette addict older than 75 years old? Variable → age\n",
    "\n",
    "# Do you have a severe chronic disease? Variable → chronic\n",
    "\n",
    "# Is your immune system too weak? Variable → immune"
   ]
  },
  {
   "cell_type": "code",
   "execution_count": 3,
   "id": "7bde1d3e-9529-4c30-b689-22485d4da200",
   "metadata": {},
   "outputs": [
    {
     "name": "stdin",
     "output_type": "stream",
     "text": [
      "Are you a cigarette addict over 75 years old?  yes\n",
      "Do you have a serious chronic disease?  no\n",
      "Is your immune system too weak?  yes\n"
     ]
    },
    {
     "name": "stdout",
     "output_type": "stream",
     "text": [
      "True\n"
     ]
    }
   ],
   "source": [
    "age = bool(input(\"Are you a cigarette addict over 75 years old? \"))\n",
    "\n",
    "\n",
    "chronic = bool(input(\"Do you have a serious chronic disease? \"))\n",
    "\n",
    "\n",
    "immune = bool(input(\"Is your immune system too weak? \"))\n",
    "\n",
    "death_risk = age or chronic or immune  # If any variable is yes , we accept that there is a risk\n",
    "\n",
    "print(death_risk)"
   ]
  },
  {
   "cell_type": "code",
   "execution_count": null,
   "id": "1af8af31-cca0-48b7-a1ea-1980231a34b6",
   "metadata": {},
   "outputs": [],
   "source": [
    "# Task : Write a short Python program that asks the user to enter Celsius temperature (it can be a decimal number),\n",
    "# converts the entered temperature into Fahrenheit degree and prints the result."
   ]
  },
  {
   "cell_type": "code",
   "execution_count": 4,
   "id": "5deafb55-3c2e-45f8-949f-7787e27b3672",
   "metadata": {},
   "outputs": [
    {
     "name": "stdin",
     "output_type": "stream",
     "text": [
      "enter celsius temperature:  25\n"
     ]
    },
    {
     "name": "stdout",
     "output_type": "stream",
     "text": [
      "77.0\n"
     ]
    }
   ],
   "source": [
    "celsius = float(input(\"enter celsius temperature: \"))\n",
    "\n",
    "fahrenheit = int(celsius) * 1.8 + 32   # the formula\n",
    "\n",
    "print(fahrenheit)"
   ]
  },
  {
   "cell_type": "code",
   "execution_count": null,
   "id": "7ea46caa-8959-4322-9235-7dd79e491b4d",
   "metadata": {},
   "outputs": [],
   "source": [
    "# Task :Write a short Python program that asks the user to enter a distance(it can be decimal number)in kilometers\n",
    "# converts the entered distance into miles and prints the result."
   ]
  },
  {
   "cell_type": "code",
   "execution_count": 5,
   "id": "0e35f294-c901-4fc9-89c4-661848fc4b61",
   "metadata": {},
   "outputs": [
    {
     "name": "stdin",
     "output_type": "stream",
     "text": [
      "enter a distance in km:  10\n"
     ]
    },
    {
     "name": "stdout",
     "output_type": "stream",
     "text": [
      "6.213699999999999\n"
     ]
    }
   ],
   "source": [
    "distance = float(input(\"enter a distance in km: \"))\n",
    "\n",
    "miles = int(distance) * 0.62137  # the formula\n",
    "\n",
    "print(miles)"
   ]
  },
  {
   "cell_type": "code",
   "execution_count": null,
   "id": "3805bd86-6439-4fa1-b50b-251da6b788ac",
   "metadata": {},
   "outputs": [],
   "source": []
  }
 ],
 "metadata": {
  "kernelspec": {
   "display_name": "Python 3 (ipykernel)",
   "language": "python",
   "name": "python3"
  },
  "language_info": {
   "codemirror_mode": {
    "name": "ipython",
    "version": 3
   },
   "file_extension": ".py",
   "mimetype": "text/x-python",
   "name": "python",
   "nbconvert_exporter": "python",
   "pygments_lexer": "ipython3",
   "version": "3.9.12"
  }
 },
 "nbformat": 4,
 "nbformat_minor": 5
}
